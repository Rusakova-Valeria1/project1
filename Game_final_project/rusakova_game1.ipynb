{
 "cells": [
  {
   "cell_type": "markdown",
   "id": "e9cafbe3",
   "metadata": {
    "toc": true
   },
   "source": [
    "<h1>Оглавление<span class=\"tocSkip\"></span></h1>\n",
    "<div class=\"toc\"><ul class=\"toc-item\"><li><span><a href=\"#Материяалы\" data-toc-modified-id=\"Материяалы-1\"><span class=\"toc-item-num\">1&nbsp;&nbsp;</span>Материяалы</a></span></li><li><span><a href=\"#Описание-проекта-&quot;Игры-—-Анализ-рекламных-источников&quot;\" data-toc-modified-id=\"Описание-проекта-&quot;Игры-—-Анализ-рекламных-источников&quot;-2\"><span class=\"toc-item-num\">2&nbsp;&nbsp;</span>Описание проекта \"Игры — Анализ рекламных источников\"</a></span></li><li><span><a href=\"#Общая-информация\" data-toc-modified-id=\"Общая-информация-3\"><span class=\"toc-item-num\">3&nbsp;&nbsp;</span>Общая информация</a></span></li><li><span><a href=\"#Предобработка\" data-toc-modified-id=\"Предобработка-4\"><span class=\"toc-item-num\">4&nbsp;&nbsp;</span>Предобработка</a></span></li><li><span><a href=\"#Исследовательский-анализ\" data-toc-modified-id=\"Исследовательский-анализ-5\"><span class=\"toc-item-num\">5&nbsp;&nbsp;</span>Исследовательский анализ</a></span><ul class=\"toc-item\"><li><span><a href=\"#Общая-информация-по-датасету\" data-toc-modified-id=\"Общая-информация-по-датасету-5.1\"><span class=\"toc-item-num\">5.1&nbsp;&nbsp;</span>Общая информация по датасету</a></span></li><li><span><a href=\"#Анализ-времени-проведенного-в-игре-по-разным-каналам-привлечения\" data-toc-modified-id=\"Анализ-времени-проведенного-в-игре-по-разным-каналам-привлечения-5.2\"><span class=\"toc-item-num\">5.2&nbsp;&nbsp;</span>Анализ времени проведенного в игре по разным каналам привлечения</a></span></li><li><span><a href=\"#Анализ-стоимости-рекламы-на-одного-клиента\" data-toc-modified-id=\"Анализ-стоимости-рекламы-на-одного-клиента-5.3\"><span class=\"toc-item-num\">5.3&nbsp;&nbsp;</span>Анализ стоимости рекламы на одного клиента</a></span></li><li><span><a href=\"#Среднее-число-построеных-зданий-на-игрока\" data-toc-modified-id=\"Среднее-число-построеных-зданий-на-игрока-5.4\"><span class=\"toc-item-num\">5.4&nbsp;&nbsp;</span>Среднее число построеных зданий на игрока</a></span></li><li><span><a href=\"#Процент-пользователей-прошедших-1й-уровень\" data-toc-modified-id=\"Процент-пользователей-прошедших-1й-уровень-5.5\"><span class=\"toc-item-num\">5.5&nbsp;&nbsp;</span>Процент пользователей прошедших 1й уровень</a></span></li><li><span><a href=\"#Процент-PvE-пользователей-в-зависимости-от-разных-каналов-привлечения\" data-toc-modified-id=\"Процент-PvE-пользователей-в-зависимости-от-разных-каналов-привлечения-5.6\"><span class=\"toc-item-num\">5.6&nbsp;&nbsp;</span>Процент PvE пользователей в зависимости от разных каналов привлечения</a></span></li><li><span><a href=\"#Вывод:\" data-toc-modified-id=\"Вывод:-5.7\"><span class=\"toc-item-num\">5.7&nbsp;&nbsp;</span>Вывод:</a></span></li></ul></li><li><span><a href=\"#Проверка-статистических-гипотез\" data-toc-modified-id=\"Проверка-статистических-гипотез-6\"><span class=\"toc-item-num\">6&nbsp;&nbsp;</span>Проверка статистических гипотез</a></span><ul class=\"toc-item\"><li><span><a href=\"#Гипотеза-№-1\" data-toc-modified-id=\"Гипотеза-№-1-6.1\"><span class=\"toc-item-num\">6.1&nbsp;&nbsp;</span>Гипотеза № 1</a></span></li><li><span><a href=\"#Гипотеза-№-2\" data-toc-modified-id=\"Гипотеза-№-2-6.2\"><span class=\"toc-item-num\">6.2&nbsp;&nbsp;</span>Гипотеза № 2</a></span></li><li><span><a href=\"#Гипотеза-№-3\" data-toc-modified-id=\"Гипотеза-№-3-6.3\"><span class=\"toc-item-num\">6.3&nbsp;&nbsp;</span>Гипотеза № 3</a></span></li></ul></li><li><span><a href=\"#Общий-вывод-и-рекомендации\" data-toc-modified-id=\"Общий-вывод-и-рекомендации-7\"><span class=\"toc-item-num\">7&nbsp;&nbsp;</span>Общий вывод и рекомендации</a></span></li></ul></div>"
   ]
  },
  {
   "cell_type": "markdown",
   "id": "01c59e2c",
   "metadata": {},
   "source": [
    "Декомпозиция\n",
    "\n",
    "шаг 1. знакомство с данными\n",
    "\n",
    "шаг 2. предобработка (дубликаты, пропуски, типы данных)\n",
    "\n",
    "шаг 3. Исследовательсий анализ\n",
    "+ выбрать метрики для анализа, проверить результаты сделать выводы\n",
    "+ провести анализ разных рекламных каналов\n",
    "  - узнать количество пользователей пришедших с каждого источника трафика\n",
    "  - расчитать CAC\n",
    "  - среднее число зданий на игрока по каналам\n",
    "  - процент прошедших 1 уровень по каналам\n",
    "+ проанализировать игроков, привлеченных разными каналами\n",
    "  - Выяснить какое количество игроков завершили уровень, \n",
    "  - сколько игроков реализовали проекты\n",
    "  - посмотреть время прохождения уровня\n",
    "  - разделить играков на PvP и PvE, узнать какой способ прохождения популярнее\n",
    "\n",
    "шаг 4. проверка статистических гипотез\n",
    "\n",
    "шаг 5. презентация"
   ]
  },
  {
   "cell_type": "markdown",
   "id": "f2e148fe",
   "metadata": {},
   "source": [
    "### Материяалы\n",
    "\n",
    "[Презентация](https://disk.yandex.ru/i/YtAYnidK94voHw)\n",
    "\n",
    "[Дашборт](https://public.tableau.com/views/rusakova_game/Dashboard1?:language=en-US&publish=yes&:display_count=n&:origin=viz_share_link)"
   ]
  },
  {
   "cell_type": "markdown",
   "id": "f9f94d89",
   "metadata": {},
   "source": [
    "### Описание проекта \"Игры — Анализ рекламных источников\"\n",
    "\n",
    "**Цель:** оптимизировать расходы на маркетинг, проанализировать эффективность рекламы\n",
    "\n",
    "**Задача:** Проанализировать поведение игроков в зависимости от источника перехода.\n",
    "\n",
    "- Проведите исследовательский анализ данных;\n",
    "- Проанализируйте влияние источника перехода в игру на поведение пользователя;\n",
    "- Проверьте статистические гипотезы\n",
    "    1. *Проверьте гипотезу: время завершения уровня различается в зависимости способа прохождения:*\n",
    "        - *через реализацию проекта,*\n",
    "        - *через победу над первым игроком.*\n",
    "    2. *Сформулируйте собственную статистическую гипотезу. Дополните её нулевой и альтернативной гипотезами. Проверьте гипотезу с помощью статистического теста.*\n",
    "    \n",
    "**Описание датасетов:**\n",
    "\n",
    "Основной датасет содержит данные о событиях, совершенных в мобильной игре «Космические братья». В ней пользователи строят свою космическую программу и пытаются преуспеть в нелёгком деле колонизации галактики.\n",
    "\n",
    "Основная монетизация игры — только планируется. Но предполагается, что в приложении будет происходить показ рекламы на экране с выбором типа объекта для постройки.\n",
    "\n",
    "В датасете представлены данные по игре пользователей на первом уровне. Завершение первого уровня требует от игрока выполнения одного из двух условий:\n",
    "\n",
    "- Победа над первым врагом\n",
    "- Реализация проекта - разработка орбитальной сборки спутников\n",
    "\n",
    "В датасете содержатся данные первых пользователей приложения — когорты пользователей, которые начали пользоваться приложением в период с 4 по 10 мая включительно.\n",
    "\n",
    "Датасет *game_actions.csv*:\n",
    "\n",
    "- `event_datetime` — время события;\n",
    "- `event` — одно из трёх событий:\n",
    "    1. `building` — объект построен,\n",
    "    2. `finished_stage_1` — первый уровень завершён,\n",
    "    3. `project` — проект завершён;\n",
    "- `building_type` — один из трёх типов здания:\n",
    "    1. `assembly_shop` — сборочный цех,\n",
    "    2. `spaceport` — космопорт,\n",
    "    3. `research_center` — исследовательский центр;\n",
    "- `user_id` — идентификатор пользователя;\n",
    "- `project_type` — тип реализованного проекта;\n",
    "\n",
    "Помимо основного датасета есть два датасета с информацией о рекламных активностях. Они также помогут в решении задачи.\n",
    "\n",
    "Датасет *ad_costs.csv*:\n",
    "\n",
    "- `day` - день, в который был совершен клик по объявлению\n",
    "- `source` - источник трафика\n",
    "- `cost` - стоимость кликов\n",
    "\n",
    "Датасет user_source.csv содержит колонки:\n",
    "\n",
    "- `user_id` - идентификатор пользователя\n",
    "- `source` - источников, с которого пришёл пользователь, установивший приложение"
   ]
  },
  {
   "cell_type": "markdown",
   "id": "8cb146b6",
   "metadata": {},
   "source": [
    "### Общая информация"
   ]
  },
  {
   "cell_type": "code",
   "execution_count": 1,
   "id": "2b91b8a3",
   "metadata": {},
   "outputs": [],
   "source": [
    "import pandas as pd\n",
    "import datetime as dt\n",
    "import matplotlib.pyplot as plt\n",
    "from scipy import stats as st"
   ]
  },
  {
   "cell_type": "code",
   "execution_count": 2,
   "id": "d83f0bac",
   "metadata": {},
   "outputs": [
    {
     "name": "stdout",
     "output_type": "stream",
     "text": [
      "Using matplotlib backend: <object object at 0x000002479C3F70B0>\n"
     ]
    }
   ],
   "source": [
    "%matplotlib"
   ]
  },
  {
   "cell_type": "code",
   "execution_count": 3,
   "id": "f33bf9c4",
   "metadata": {},
   "outputs": [],
   "source": [
    "%matplotlib inline"
   ]
  },
  {
   "cell_type": "code",
   "execution_count": 4,
   "id": "d182f4ca",
   "metadata": {},
   "outputs": [],
   "source": [
    "try:\n",
    "    game = pd.read_csv('/game/game_actions.csv')\n",
    "    costs = pd.read_csv('/game/ad_costs.csv')\n",
    "    source = pd.read_csv('/game/user_source.csv')\n",
    "except:\n",
    "    game = pd.read_csv('/datasets/game_actions.csv')\n",
    "    costs = pd.read_csv('/datasets/ad_costs.csv')\n",
    "    source = pd.read_csv('/datasets/user_source.csv')"
   ]
  },
  {
   "cell_type": "code",
   "execution_count": 5,
   "id": "42d2c376",
   "metadata": {},
   "outputs": [],
   "source": [
    "# Функция общей информации\n",
    "def data_info(df):\n",
    "    print('1. Первые 10 строк таблицы')\n",
    "    display(df.head(10))\n",
    "    print('2. Общая информация')\n",
    "    df.info()\n",
    "    print('3. Количество дубликатов')\n",
    "    print(df.duplicated().sum())\n",
    "    print('4. Пропуски в таблице')\n",
    "    print(df.isna().sum())"
   ]
  },
  {
   "cell_type": "code",
   "execution_count": 6,
   "id": "e4c94f27",
   "metadata": {},
   "outputs": [
    {
     "name": "stdout",
     "output_type": "stream",
     "text": [
      "1. Первые 10 строк таблицы\n"
     ]
    },
    {
     "data": {
      "text/html": [
       "<div>\n",
       "<style scoped>\n",
       "    .dataframe tbody tr th:only-of-type {\n",
       "        vertical-align: middle;\n",
       "    }\n",
       "\n",
       "    .dataframe tbody tr th {\n",
       "        vertical-align: top;\n",
       "    }\n",
       "\n",
       "    .dataframe thead th {\n",
       "        text-align: right;\n",
       "    }\n",
       "</style>\n",
       "<table border=\"1\" class=\"dataframe\">\n",
       "  <thead>\n",
       "    <tr style=\"text-align: right;\">\n",
       "      <th></th>\n",
       "      <th>event_datetime</th>\n",
       "      <th>event</th>\n",
       "      <th>building_type</th>\n",
       "      <th>user_id</th>\n",
       "      <th>project_type</th>\n",
       "    </tr>\n",
       "  </thead>\n",
       "  <tbody>\n",
       "    <tr>\n",
       "      <th>0</th>\n",
       "      <td>2020-05-04 00:00:01</td>\n",
       "      <td>building</td>\n",
       "      <td>assembly_shop</td>\n",
       "      <td>55e92310-cb8e-4754-b622-597e124b03de</td>\n",
       "      <td>NaN</td>\n",
       "    </tr>\n",
       "    <tr>\n",
       "      <th>1</th>\n",
       "      <td>2020-05-04 00:00:03</td>\n",
       "      <td>building</td>\n",
       "      <td>assembly_shop</td>\n",
       "      <td>c07b1c10-f477-44dc-81dc-ec82254b1347</td>\n",
       "      <td>NaN</td>\n",
       "    </tr>\n",
       "    <tr>\n",
       "      <th>2</th>\n",
       "      <td>2020-05-04 00:00:16</td>\n",
       "      <td>building</td>\n",
       "      <td>assembly_shop</td>\n",
       "      <td>6edd42cc-e753-4ff6-a947-2107cd560710</td>\n",
       "      <td>NaN</td>\n",
       "    </tr>\n",
       "    <tr>\n",
       "      <th>3</th>\n",
       "      <td>2020-05-04 00:00:16</td>\n",
       "      <td>building</td>\n",
       "      <td>assembly_shop</td>\n",
       "      <td>92c69003-d60a-444a-827f-8cc51bf6bf4c</td>\n",
       "      <td>NaN</td>\n",
       "    </tr>\n",
       "    <tr>\n",
       "      <th>4</th>\n",
       "      <td>2020-05-04 00:00:35</td>\n",
       "      <td>building</td>\n",
       "      <td>assembly_shop</td>\n",
       "      <td>cdc6bb92-0ccb-4490-9866-ef142f09139d</td>\n",
       "      <td>NaN</td>\n",
       "    </tr>\n",
       "    <tr>\n",
       "      <th>5</th>\n",
       "      <td>2020-05-04 00:00:36</td>\n",
       "      <td>building</td>\n",
       "      <td>assembly_shop</td>\n",
       "      <td>06c592ca-902d-42bb-bac3-75ce84cca159</td>\n",
       "      <td>NaN</td>\n",
       "    </tr>\n",
       "    <tr>\n",
       "      <th>6</th>\n",
       "      <td>2020-05-04 00:00:36</td>\n",
       "      <td>building</td>\n",
       "      <td>assembly_shop</td>\n",
       "      <td>4fe0f101-694b-4e31-9740-d1d87f7208ea</td>\n",
       "      <td>NaN</td>\n",
       "    </tr>\n",
       "    <tr>\n",
       "      <th>7</th>\n",
       "      <td>2020-05-04 00:00:38</td>\n",
       "      <td>building</td>\n",
       "      <td>assembly_shop</td>\n",
       "      <td>beb8ca15-33a9-465d-b47b-89aa96f89c9a</td>\n",
       "      <td>NaN</td>\n",
       "    </tr>\n",
       "    <tr>\n",
       "      <th>8</th>\n",
       "      <td>2020-05-04 00:00:44</td>\n",
       "      <td>building</td>\n",
       "      <td>assembly_shop</td>\n",
       "      <td>65a92713-5969-48b1-8945-bfefa5063887</td>\n",
       "      <td>NaN</td>\n",
       "    </tr>\n",
       "    <tr>\n",
       "      <th>9</th>\n",
       "      <td>2020-05-04 00:01:33</td>\n",
       "      <td>building</td>\n",
       "      <td>assembly_shop</td>\n",
       "      <td>fa352362-d258-472c-b295-2796ccc39fa3</td>\n",
       "      <td>NaN</td>\n",
       "    </tr>\n",
       "  </tbody>\n",
       "</table>\n",
       "</div>"
      ],
      "text/plain": [
       "        event_datetime     event  building_type  \\\n",
       "0  2020-05-04 00:00:01  building  assembly_shop   \n",
       "1  2020-05-04 00:00:03  building  assembly_shop   \n",
       "2  2020-05-04 00:00:16  building  assembly_shop   \n",
       "3  2020-05-04 00:00:16  building  assembly_shop   \n",
       "4  2020-05-04 00:00:35  building  assembly_shop   \n",
       "5  2020-05-04 00:00:36  building  assembly_shop   \n",
       "6  2020-05-04 00:00:36  building  assembly_shop   \n",
       "7  2020-05-04 00:00:38  building  assembly_shop   \n",
       "8  2020-05-04 00:00:44  building  assembly_shop   \n",
       "9  2020-05-04 00:01:33  building  assembly_shop   \n",
       "\n",
       "                                user_id project_type  \n",
       "0  55e92310-cb8e-4754-b622-597e124b03de          NaN  \n",
       "1  c07b1c10-f477-44dc-81dc-ec82254b1347          NaN  \n",
       "2  6edd42cc-e753-4ff6-a947-2107cd560710          NaN  \n",
       "3  92c69003-d60a-444a-827f-8cc51bf6bf4c          NaN  \n",
       "4  cdc6bb92-0ccb-4490-9866-ef142f09139d          NaN  \n",
       "5  06c592ca-902d-42bb-bac3-75ce84cca159          NaN  \n",
       "6  4fe0f101-694b-4e31-9740-d1d87f7208ea          NaN  \n",
       "7  beb8ca15-33a9-465d-b47b-89aa96f89c9a          NaN  \n",
       "8  65a92713-5969-48b1-8945-bfefa5063887          NaN  \n",
       "9  fa352362-d258-472c-b295-2796ccc39fa3          NaN  "
      ]
     },
     "metadata": {},
     "output_type": "display_data"
    },
    {
     "name": "stdout",
     "output_type": "stream",
     "text": [
      "2. Общая информация\n",
      "<class 'pandas.core.frame.DataFrame'>\n",
      "RangeIndex: 135640 entries, 0 to 135639\n",
      "Data columns (total 5 columns):\n",
      " #   Column          Non-Null Count   Dtype \n",
      "---  ------          --------------   ----- \n",
      " 0   event_datetime  135640 non-null  object\n",
      " 1   event           135640 non-null  object\n",
      " 2   building_type   127957 non-null  object\n",
      " 3   user_id         135640 non-null  object\n",
      " 4   project_type    1866 non-null    object\n",
      "dtypes: object(5)\n",
      "memory usage: 5.2+ MB\n",
      "3. Количество дубликатов\n",
      "1\n",
      "4. Пропуски в таблице\n",
      "event_datetime         0\n",
      "event                  0\n",
      "building_type       7683\n",
      "user_id                0\n",
      "project_type      133774\n",
      "dtype: int64\n"
     ]
    }
   ],
   "source": [
    "data_info(game)"
   ]
  },
  {
   "cell_type": "code",
   "execution_count": 7,
   "id": "eee4c491",
   "metadata": {},
   "outputs": [
    {
     "data": {
      "text/plain": [
       "array(['building', 'finished_stage_1', 'project'], dtype=object)"
      ]
     },
     "execution_count": 7,
     "metadata": {},
     "output_type": "execute_result"
    }
   ],
   "source": [
    "game['event'].unique()"
   ]
  },
  {
   "cell_type": "code",
   "execution_count": 8,
   "id": "e35a3bd6",
   "metadata": {},
   "outputs": [
    {
     "data": {
      "text/plain": [
       "array([nan, 'satellite_orbital_assembly'], dtype=object)"
      ]
     },
     "execution_count": 8,
     "metadata": {},
     "output_type": "execute_result"
    }
   ],
   "source": [
    "game['project_type'].unique()"
   ]
  },
  {
   "cell_type": "code",
   "execution_count": 9,
   "id": "22c7af92",
   "metadata": {},
   "outputs": [
    {
     "name": "stdout",
     "output_type": "stream",
     "text": [
      "1. Первые 10 строк таблицы\n"
     ]
    },
    {
     "data": {
      "text/html": [
       "<div>\n",
       "<style scoped>\n",
       "    .dataframe tbody tr th:only-of-type {\n",
       "        vertical-align: middle;\n",
       "    }\n",
       "\n",
       "    .dataframe tbody tr th {\n",
       "        vertical-align: top;\n",
       "    }\n",
       "\n",
       "    .dataframe thead th {\n",
       "        text-align: right;\n",
       "    }\n",
       "</style>\n",
       "<table border=\"1\" class=\"dataframe\">\n",
       "  <thead>\n",
       "    <tr style=\"text-align: right;\">\n",
       "      <th></th>\n",
       "      <th>source</th>\n",
       "      <th>day</th>\n",
       "      <th>cost</th>\n",
       "    </tr>\n",
       "  </thead>\n",
       "  <tbody>\n",
       "    <tr>\n",
       "      <th>0</th>\n",
       "      <td>facebook_ads</td>\n",
       "      <td>2020-05-03</td>\n",
       "      <td>935.882786</td>\n",
       "    </tr>\n",
       "    <tr>\n",
       "      <th>1</th>\n",
       "      <td>facebook_ads</td>\n",
       "      <td>2020-05-04</td>\n",
       "      <td>548.354480</td>\n",
       "    </tr>\n",
       "    <tr>\n",
       "      <th>2</th>\n",
       "      <td>facebook_ads</td>\n",
       "      <td>2020-05-05</td>\n",
       "      <td>260.185754</td>\n",
       "    </tr>\n",
       "    <tr>\n",
       "      <th>3</th>\n",
       "      <td>facebook_ads</td>\n",
       "      <td>2020-05-06</td>\n",
       "      <td>177.982200</td>\n",
       "    </tr>\n",
       "    <tr>\n",
       "      <th>4</th>\n",
       "      <td>facebook_ads</td>\n",
       "      <td>2020-05-07</td>\n",
       "      <td>111.766796</td>\n",
       "    </tr>\n",
       "    <tr>\n",
       "      <th>5</th>\n",
       "      <td>facebook_ads</td>\n",
       "      <td>2020-05-08</td>\n",
       "      <td>68.009276</td>\n",
       "    </tr>\n",
       "    <tr>\n",
       "      <th>6</th>\n",
       "      <td>facebook_ads</td>\n",
       "      <td>2020-05-09</td>\n",
       "      <td>38.723350</td>\n",
       "    </tr>\n",
       "    <tr>\n",
       "      <th>7</th>\n",
       "      <td>instagram_new_adverts</td>\n",
       "      <td>2020-05-03</td>\n",
       "      <td>943.204717</td>\n",
       "    </tr>\n",
       "    <tr>\n",
       "      <th>8</th>\n",
       "      <td>instagram_new_adverts</td>\n",
       "      <td>2020-05-04</td>\n",
       "      <td>502.925451</td>\n",
       "    </tr>\n",
       "    <tr>\n",
       "      <th>9</th>\n",
       "      <td>instagram_new_adverts</td>\n",
       "      <td>2020-05-05</td>\n",
       "      <td>313.970984</td>\n",
       "    </tr>\n",
       "  </tbody>\n",
       "</table>\n",
       "</div>"
      ],
      "text/plain": [
       "                  source         day        cost\n",
       "0           facebook_ads  2020-05-03  935.882786\n",
       "1           facebook_ads  2020-05-04  548.354480\n",
       "2           facebook_ads  2020-05-05  260.185754\n",
       "3           facebook_ads  2020-05-06  177.982200\n",
       "4           facebook_ads  2020-05-07  111.766796\n",
       "5           facebook_ads  2020-05-08   68.009276\n",
       "6           facebook_ads  2020-05-09   38.723350\n",
       "7  instagram_new_adverts  2020-05-03  943.204717\n",
       "8  instagram_new_adverts  2020-05-04  502.925451\n",
       "9  instagram_new_adverts  2020-05-05  313.970984"
      ]
     },
     "metadata": {},
     "output_type": "display_data"
    },
    {
     "name": "stdout",
     "output_type": "stream",
     "text": [
      "2. Общая информация\n",
      "<class 'pandas.core.frame.DataFrame'>\n",
      "RangeIndex: 28 entries, 0 to 27\n",
      "Data columns (total 3 columns):\n",
      " #   Column  Non-Null Count  Dtype  \n",
      "---  ------  --------------  -----  \n",
      " 0   source  28 non-null     object \n",
      " 1   day     28 non-null     object \n",
      " 2   cost    28 non-null     float64\n",
      "dtypes: float64(1), object(2)\n",
      "memory usage: 800.0+ bytes\n",
      "3. Количество дубликатов\n",
      "0\n",
      "4. Пропуски в таблице\n",
      "source    0\n",
      "day       0\n",
      "cost      0\n",
      "dtype: int64\n"
     ]
    }
   ],
   "source": [
    "data_info(costs)"
   ]
  },
  {
   "cell_type": "code",
   "execution_count": 10,
   "id": "49d2a583",
   "metadata": {},
   "outputs": [
    {
     "data": {
      "text/plain": [
       "array(['facebook_ads', 'instagram_new_adverts', 'yandex_direct',\n",
       "       'youtube_channel_reklama'], dtype=object)"
      ]
     },
     "execution_count": 10,
     "metadata": {},
     "output_type": "execute_result"
    }
   ],
   "source": [
    "costs['source'].unique()"
   ]
  },
  {
   "cell_type": "code",
   "execution_count": 11,
   "id": "e5c8c3a4",
   "metadata": {},
   "outputs": [
    {
     "name": "stdout",
     "output_type": "stream",
     "text": [
      "1. Первые 10 строк таблицы\n"
     ]
    },
    {
     "data": {
      "text/html": [
       "<div>\n",
       "<style scoped>\n",
       "    .dataframe tbody tr th:only-of-type {\n",
       "        vertical-align: middle;\n",
       "    }\n",
       "\n",
       "    .dataframe tbody tr th {\n",
       "        vertical-align: top;\n",
       "    }\n",
       "\n",
       "    .dataframe thead th {\n",
       "        text-align: right;\n",
       "    }\n",
       "</style>\n",
       "<table border=\"1\" class=\"dataframe\">\n",
       "  <thead>\n",
       "    <tr style=\"text-align: right;\">\n",
       "      <th></th>\n",
       "      <th>user_id</th>\n",
       "      <th>source</th>\n",
       "    </tr>\n",
       "  </thead>\n",
       "  <tbody>\n",
       "    <tr>\n",
       "      <th>0</th>\n",
       "      <td>0001f83c-c6ac-4621-b7f0-8a28b283ac30</td>\n",
       "      <td>facebook_ads</td>\n",
       "    </tr>\n",
       "    <tr>\n",
       "      <th>1</th>\n",
       "      <td>00151b4f-ba38-44a8-a650-d7cf130a0105</td>\n",
       "      <td>yandex_direct</td>\n",
       "    </tr>\n",
       "    <tr>\n",
       "      <th>2</th>\n",
       "      <td>001aaea6-3d14-43f1-8ca8-7f48820f17aa</td>\n",
       "      <td>youtube_channel_reklama</td>\n",
       "    </tr>\n",
       "    <tr>\n",
       "      <th>3</th>\n",
       "      <td>001d39dc-366c-4021-9604-6a3b9ff01e25</td>\n",
       "      <td>instagram_new_adverts</td>\n",
       "    </tr>\n",
       "    <tr>\n",
       "      <th>4</th>\n",
       "      <td>002f508f-67b6-479f-814b-b05f00d4e995</td>\n",
       "      <td>facebook_ads</td>\n",
       "    </tr>\n",
       "    <tr>\n",
       "      <th>5</th>\n",
       "      <td>003b80c6-4164-4157-bb2a-03d0181d39c4</td>\n",
       "      <td>yandex_direct</td>\n",
       "    </tr>\n",
       "    <tr>\n",
       "      <th>6</th>\n",
       "      <td>003ee7e8-6356-4286-a715-62f22a18d2a1</td>\n",
       "      <td>instagram_new_adverts</td>\n",
       "    </tr>\n",
       "    <tr>\n",
       "      <th>7</th>\n",
       "      <td>004074f8-251a-4776-922c-8348dca1a2f6</td>\n",
       "      <td>facebook_ads</td>\n",
       "    </tr>\n",
       "    <tr>\n",
       "      <th>8</th>\n",
       "      <td>00440efd-aa50-4b4b-aae8-ffcd1782729d</td>\n",
       "      <td>facebook_ads</td>\n",
       "    </tr>\n",
       "    <tr>\n",
       "      <th>9</th>\n",
       "      <td>00464e5e-28ed-4be6-bf44-517ef7b3937b</td>\n",
       "      <td>yandex_direct</td>\n",
       "    </tr>\n",
       "  </tbody>\n",
       "</table>\n",
       "</div>"
      ],
      "text/plain": [
       "                                user_id                   source\n",
       "0  0001f83c-c6ac-4621-b7f0-8a28b283ac30             facebook_ads\n",
       "1  00151b4f-ba38-44a8-a650-d7cf130a0105            yandex_direct\n",
       "2  001aaea6-3d14-43f1-8ca8-7f48820f17aa  youtube_channel_reklama\n",
       "3  001d39dc-366c-4021-9604-6a3b9ff01e25    instagram_new_adverts\n",
       "4  002f508f-67b6-479f-814b-b05f00d4e995             facebook_ads\n",
       "5  003b80c6-4164-4157-bb2a-03d0181d39c4            yandex_direct\n",
       "6  003ee7e8-6356-4286-a715-62f22a18d2a1    instagram_new_adverts\n",
       "7  004074f8-251a-4776-922c-8348dca1a2f6             facebook_ads\n",
       "8  00440efd-aa50-4b4b-aae8-ffcd1782729d             facebook_ads\n",
       "9  00464e5e-28ed-4be6-bf44-517ef7b3937b            yandex_direct"
      ]
     },
     "metadata": {},
     "output_type": "display_data"
    },
    {
     "name": "stdout",
     "output_type": "stream",
     "text": [
      "2. Общая информация\n",
      "<class 'pandas.core.frame.DataFrame'>\n",
      "RangeIndex: 13576 entries, 0 to 13575\n",
      "Data columns (total 2 columns):\n",
      " #   Column   Non-Null Count  Dtype \n",
      "---  ------   --------------  ----- \n",
      " 0   user_id  13576 non-null  object\n",
      " 1   source   13576 non-null  object\n",
      "dtypes: object(2)\n",
      "memory usage: 212.2+ KB\n",
      "3. Количество дубликатов\n",
      "0\n",
      "4. Пропуски в таблице\n",
      "user_id    0\n",
      "source     0\n",
      "dtype: int64\n"
     ]
    }
   ],
   "source": [
    "data_info(source)"
   ]
  },
  {
   "cell_type": "markdown",
   "id": "d40817dd",
   "metadata": {},
   "source": [
    "**Вывод:** \n",
    "\n",
    "всего 4 источника трафика (`facebook_ads`, `instagram_new_adverts`, `yandex_direct`, `youtube_channel_reklama`) \n",
    "\n",
    "в таблице `game` оказалось много пропусков в колонках `building_type` и `project_type`, это связано с механикой сбора данных, тип здания прописывается только если построенно здание, а тип проекта прописывается только если выполняется проект - на этапе предобработка необходимо проверить, что эти условия выполняются верно. \n",
    "\n",
    "дубликаты нашлись только в таблице `game`, которые удалим на этапе предобработки, и проверим на наличие неявных дубликатов по колонкам  `user_id` и `event_datetime`.\n",
    "\n",
    "необходимо изменить типы данных с датами."
   ]
  },
  {
   "cell_type": "markdown",
   "id": "faf906bc",
   "metadata": {},
   "source": [
    "### Предобработка"
   ]
  },
  {
   "cell_type": "code",
   "execution_count": 12,
   "id": "c711d5ac",
   "metadata": {},
   "outputs": [
    {
     "data": {
      "text/plain": [
       "event_datetime         0\n",
       "event                  0\n",
       "building_type          0\n",
       "user_id                0\n",
       "project_type      127957\n",
       "dtype: int64"
      ]
     },
     "execution_count": 12,
     "metadata": {},
     "output_type": "execute_result"
    }
   ],
   "source": [
    "game.query('event == \"building\"').isna().sum()"
   ]
  },
  {
   "cell_type": "code",
   "execution_count": 13,
   "id": "f469de0c",
   "metadata": {},
   "outputs": [
    {
     "data": {
      "text/plain": [
       "event_datetime       0\n",
       "event                0\n",
       "building_type     1866\n",
       "user_id              0\n",
       "project_type         0\n",
       "dtype: int64"
      ]
     },
     "execution_count": 13,
     "metadata": {},
     "output_type": "execute_result"
    }
   ],
   "source": [
    "game.query('event == \"project\"').isna().sum()"
   ]
  },
  {
   "cell_type": "code",
   "execution_count": 14,
   "id": "fd9a1aed",
   "metadata": {},
   "outputs": [],
   "source": [
    "game = game.drop_duplicates()"
   ]
  },
  {
   "cell_type": "code",
   "execution_count": 15,
   "id": "eb04fef0",
   "metadata": {},
   "outputs": [
    {
     "data": {
      "text/plain": [
       "0"
      ]
     },
     "execution_count": 15,
     "metadata": {},
     "output_type": "execute_result"
    }
   ],
   "source": [
    "game[['user_id', 'event_datetime']].duplicated().sum()"
   ]
  },
  {
   "cell_type": "code",
   "execution_count": 16,
   "id": "de3cd8c7",
   "metadata": {},
   "outputs": [],
   "source": [
    "game['event_datetime'] = pd.to_datetime(game['event_datetime'])\n",
    "costs['day'] = pd.to_datetime(costs['day'])"
   ]
  },
  {
   "cell_type": "markdown",
   "id": "aa2fa7dd",
   "metadata": {},
   "source": [
    "**Вывод:** \n",
    "\n",
    "В колонке building нет пропусков по типам здания, а в колонке project нет пропусков по типу проекта.\n",
    "\n",
    "дубликаты в таблице game удалены, неявные дубликаты не обнаружены\n",
    "\n",
    "типы данных перевели к дате"
   ]
  },
  {
   "cell_type": "markdown",
   "id": "c7d62660",
   "metadata": {},
   "source": [
    "### Исследовательский анализ\n",
    "\n",
    "#### Общая информация по датасету"
   ]
  },
  {
   "cell_type": "code",
   "execution_count": 17,
   "id": "1fad5523",
   "metadata": {},
   "outputs": [
    {
     "name": "stdout",
     "output_type": "stream",
     "text": [
      "Дата первого события: 2020-05-04 00:00:01\n",
      "Дата последнего события: 2020-06-05 12:32:49\n",
      "Время, затраченное на сбор событий: 32 days 12:32:48\n"
     ]
    }
   ],
   "source": [
    "print('Дата первого события:', game['event_datetime'].min())\n",
    "print('Дата последнего события:', game['event_datetime'].max())\n",
    "print('Время, затраченное на сбор событий:', game['event_datetime'].max()-game['event_datetime'].min())"
   ]
  },
  {
   "cell_type": "code",
   "execution_count": 18,
   "id": "d3bc16a2",
   "metadata": {},
   "outputs": [
    {
     "name": "stdout",
     "output_type": "stream",
     "text": [
      "Всего новых пользователей за весь период: 13576\n",
      "Количество привлеченных пользователей разными трафиками за весь период: source\n",
      "youtube_channel_reklama    2686\n",
      "facebook_ads               2726\n",
      "instagram_new_adverts      3347\n",
      "yandex_direct              4817\n",
      "Name: user_id, dtype: int64\n"
     ]
    }
   ],
   "source": [
    "source\n",
    "print('Всего новых пользователей за весь период:', source['user_id'].nunique())\n",
    "print('Количество привлеченных пользователей разными трафиками за весь период:',\\\n",
    "      source.groupby('source')['user_id'].nunique().sort_values())"
   ]
  },
  {
   "cell_type": "code",
   "execution_count": 19,
   "id": "e57c662c",
   "metadata": {},
   "outputs": [
    {
     "data": {
      "image/png": "[encoded data removed]",
      "text/plain": [
       "<Figure size 640x480 with 1 Axes>"
      ]
     },
     "metadata": {},
     "output_type": "display_data"
    }
   ],
   "source": [
    "source.groupby('source')['user_id'].count().plot(kind='pie', autopct='%1.0f%%', subplots=True)\n",
    "\n",
    "plt.title('Количество привлеченных пользователей')\n",
    "plt.ylabel('')\n",
    "plt.show()"
   ]
  },
  {
   "cell_type": "code",
   "execution_count": 20,
   "id": "aaba864b",
   "metadata": {},
   "outputs": [
    {
     "data": {
      "text/plain": [
       "building            127956\n",
       "finished_stage_1      5817\n",
       "project               1866\n",
       "Name: event, dtype: int64"
      ]
     },
     "execution_count": 20,
     "metadata": {},
     "output_type": "execute_result"
    }
   ],
   "source": [
    "game['event'].value_counts()"
   ]
  },
  {
   "cell_type": "code",
   "execution_count": 21,
   "id": "f263bf0d",
   "metadata": {},
   "outputs": [
    {
     "data": {
      "image/png": "[encoded data removed]",
      "text/plain": [
       "<Figure size 640x480 with 1 Axes>"
      ]
     },
     "metadata": {},
     "output_type": "display_data"
    }
   ],
   "source": [
    "game.query('event != \"building\"')['event'].value_counts().plot(kind='bar', grid=True)\n",
    "plt.title('Количество событий')\n",
    "plt.xticks(rotation = 0);"
   ]
  },
  {
   "cell_type": "markdown",
   "id": "78c457b4",
   "metadata": {},
   "source": [
    "Из 13576 пользователей закончили первый уровень 5817 (43%). Завершили проект 1866 (14% от всех пользователей и 32% от пользователей, которые завершили первый уровень)."
   ]
  },
  {
   "cell_type": "markdown",
   "id": "9458d50c",
   "metadata": {},
   "source": [
    "####  Анализ времени проведенного в игре по разным каналам привлечения"
   ]
  },
  {
   "cell_type": "code",
   "execution_count": 22,
   "id": "94e54255",
   "metadata": {},
   "outputs": [
    {
     "data": {
      "text/html": [
       "<div>\n",
       "<style scoped>\n",
       "    .dataframe tbody tr th:only-of-type {\n",
       "        vertical-align: middle;\n",
       "    }\n",
       "\n",
       "    .dataframe tbody tr th {\n",
       "        vertical-align: top;\n",
       "    }\n",
       "\n",
       "    .dataframe thead th {\n",
       "        text-align: right;\n",
       "    }\n",
       "</style>\n",
       "<table border=\"1\" class=\"dataframe\">\n",
       "  <thead>\n",
       "    <tr style=\"text-align: right;\">\n",
       "      <th></th>\n",
       "      <th>user_id</th>\n",
       "      <th>first</th>\n",
       "      <th>last</th>\n",
       "      <th>day_hour</th>\n",
       "      <th>day</th>\n",
       "      <th>source</th>\n",
       "      <th>date</th>\n",
       "    </tr>\n",
       "  </thead>\n",
       "  <tbody>\n",
       "    <tr>\n",
       "      <th>0</th>\n",
       "      <td>55e92310-cb8e-4754-b622-597e124b03de</td>\n",
       "      <td>2020-05-04 00:00:01</td>\n",
       "      <td>2020-05-10 20:27:01</td>\n",
       "      <td>6 days 20:00:00</td>\n",
       "      <td>6.833333</td>\n",
       "      <td>youtube_channel_reklama</td>\n",
       "      <td>2020-05-04</td>\n",
       "    </tr>\n",
       "    <tr>\n",
       "      <th>1</th>\n",
       "      <td>c07b1c10-f477-44dc-81dc-ec82254b1347</td>\n",
       "      <td>2020-05-04 00:00:03</td>\n",
       "      <td>2020-05-15 05:29:13</td>\n",
       "      <td>11 days 05:00:00</td>\n",
       "      <td>11.208333</td>\n",
       "      <td>facebook_ads</td>\n",
       "      <td>2020-05-04</td>\n",
       "    </tr>\n",
       "    <tr>\n",
       "      <th>2</th>\n",
       "      <td>92c69003-d60a-444a-827f-8cc51bf6bf4c</td>\n",
       "      <td>2020-05-04 00:00:16</td>\n",
       "      <td>2020-05-12 04:29:54</td>\n",
       "      <td>8 days 04:00:00</td>\n",
       "      <td>8.166667</td>\n",
       "      <td>facebook_ads</td>\n",
       "      <td>2020-05-04</td>\n",
       "    </tr>\n",
       "    <tr>\n",
       "      <th>3</th>\n",
       "      <td>6edd42cc-e753-4ff6-a947-2107cd560710</td>\n",
       "      <td>2020-05-04 00:00:16</td>\n",
       "      <td>2020-05-16 11:51:58</td>\n",
       "      <td>12 days 12:00:00</td>\n",
       "      <td>12.500000</td>\n",
       "      <td>instagram_new_adverts</td>\n",
       "      <td>2020-05-04</td>\n",
       "    </tr>\n",
       "    <tr>\n",
       "      <th>4</th>\n",
       "      <td>cdc6bb92-0ccb-4490-9866-ef142f09139d</td>\n",
       "      <td>2020-05-04 00:00:35</td>\n",
       "      <td>2020-05-11 14:18:05</td>\n",
       "      <td>7 days 14:00:00</td>\n",
       "      <td>7.583333</td>\n",
       "      <td>yandex_direct</td>\n",
       "      <td>2020-05-04</td>\n",
       "    </tr>\n",
       "    <tr>\n",
       "      <th>...</th>\n",
       "      <td>...</td>\n",
       "      <td>...</td>\n",
       "      <td>...</td>\n",
       "      <td>...</td>\n",
       "      <td>...</td>\n",
       "      <td>...</td>\n",
       "      <td>...</td>\n",
       "    </tr>\n",
       "    <tr>\n",
       "      <th>13571</th>\n",
       "      <td>20bc9d79-10c4-4f2d-862e-4a6dece3b4ec</td>\n",
       "      <td>2020-05-10 23:34:33</td>\n",
       "      <td>2020-05-31 10:28:30</td>\n",
       "      <td>20 days 11:00:00</td>\n",
       "      <td>20.458333</td>\n",
       "      <td>youtube_channel_reklama</td>\n",
       "      <td>2020-05-10</td>\n",
       "    </tr>\n",
       "    <tr>\n",
       "      <th>13572</th>\n",
       "      <td>daea0325-f7c5-4008-b5f6-f89fc2c1e019</td>\n",
       "      <td>2020-05-10 23:34:43</td>\n",
       "      <td>2020-05-10 23:34:43</td>\n",
       "      <td>0 days 00:00:00</td>\n",
       "      <td>0.000000</td>\n",
       "      <td>yandex_direct</td>\n",
       "      <td>2020-05-10</td>\n",
       "    </tr>\n",
       "    <tr>\n",
       "      <th>13573</th>\n",
       "      <td>7b225969-375a-455e-a14a-ed1ab373fb65</td>\n",
       "      <td>2020-05-10 23:44:17</td>\n",
       "      <td>2020-05-24 15:22:56</td>\n",
       "      <td>13 days 16:00:00</td>\n",
       "      <td>13.666667</td>\n",
       "      <td>instagram_new_adverts</td>\n",
       "      <td>2020-05-10</td>\n",
       "    </tr>\n",
       "    <tr>\n",
       "      <th>13574</th>\n",
       "      <td>cafd1b8b-507b-49ae-abf0-89fe863a8b03</td>\n",
       "      <td>2020-05-10 23:57:56</td>\n",
       "      <td>2020-05-18 00:23:28</td>\n",
       "      <td>7 days 00:00:00</td>\n",
       "      <td>7.000000</td>\n",
       "      <td>facebook_ads</td>\n",
       "      <td>2020-05-10</td>\n",
       "    </tr>\n",
       "    <tr>\n",
       "      <th>13575</th>\n",
       "      <td>bdc53e19-462a-4dc3-8b55-b4a34278af6a</td>\n",
       "      <td>2020-05-10 23:59:52</td>\n",
       "      <td>2020-05-18 11:11:11</td>\n",
       "      <td>7 days 11:00:00</td>\n",
       "      <td>7.458333</td>\n",
       "      <td>youtube_channel_reklama</td>\n",
       "      <td>2020-05-10</td>\n",
       "    </tr>\n",
       "  </tbody>\n",
       "</table>\n",
       "<p>13576 rows × 7 columns</p>\n",
       "</div>"
      ],
      "text/plain": [
       "                                    user_id               first  \\\n",
       "0      55e92310-cb8e-4754-b622-597e124b03de 2020-05-04 00:00:01   \n",
       "1      c07b1c10-f477-44dc-81dc-ec82254b1347 2020-05-04 00:00:03   \n",
       "2      92c69003-d60a-444a-827f-8cc51bf6bf4c 2020-05-04 00:00:16   \n",
       "3      6edd42cc-e753-4ff6-a947-2107cd560710 2020-05-04 00:00:16   \n",
       "4      cdc6bb92-0ccb-4490-9866-ef142f09139d 2020-05-04 00:00:35   \n",
       "...                                     ...                 ...   \n",
       "13571  20bc9d79-10c4-4f2d-862e-4a6dece3b4ec 2020-05-10 23:34:33   \n",
       "13572  daea0325-f7c5-4008-b5f6-f89fc2c1e019 2020-05-10 23:34:43   \n",
       "13573  7b225969-375a-455e-a14a-ed1ab373fb65 2020-05-10 23:44:17   \n",
       "13574  cafd1b8b-507b-49ae-abf0-89fe863a8b03 2020-05-10 23:57:56   \n",
       "13575  bdc53e19-462a-4dc3-8b55-b4a34278af6a 2020-05-10 23:59:52   \n",
       "\n",
       "                     last         day_hour        day  \\\n",
       "0     2020-05-10 20:27:01  6 days 20:00:00   6.833333   \n",
       "1     2020-05-15 05:29:13 11 days 05:00:00  11.208333   \n",
       "2     2020-05-12 04:29:54  8 days 04:00:00   8.166667   \n",
       "3     2020-05-16 11:51:58 12 days 12:00:00  12.500000   \n",
       "4     2020-05-11 14:18:05  7 days 14:00:00   7.583333   \n",
       "...                   ...              ...        ...   \n",
       "13571 2020-05-31 10:28:30 20 days 11:00:00  20.458333   \n",
       "13572 2020-05-10 23:34:43  0 days 00:00:00   0.000000   \n",
       "13573 2020-05-24 15:22:56 13 days 16:00:00  13.666667   \n",
       "13574 2020-05-18 00:23:28  7 days 00:00:00   7.000000   \n",
       "13575 2020-05-18 11:11:11  7 days 11:00:00   7.458333   \n",
       "\n",
       "                        source        date  \n",
       "0      youtube_channel_reklama  2020-05-04  \n",
       "1                 facebook_ads  2020-05-04  \n",
       "2                 facebook_ads  2020-05-04  \n",
       "3        instagram_new_adverts  2020-05-04  \n",
       "4                yandex_direct  2020-05-04  \n",
       "...                        ...         ...  \n",
       "13571  youtube_channel_reklama  2020-05-10  \n",
       "13572            yandex_direct  2020-05-10  \n",
       "13573    instagram_new_adverts  2020-05-10  \n",
       "13574             facebook_ads  2020-05-10  \n",
       "13575  youtube_channel_reklama  2020-05-10  \n",
       "\n",
       "[13576 rows x 7 columns]"
      ]
     },
     "execution_count": 22,
     "metadata": {},
     "output_type": "execute_result"
    }
   ],
   "source": [
    "time = (game.groupby('user_id').agg({'event_datetime':'first'})\n",
    "        .rename(columns={'event_datetime':'first'}))\n",
    "time['last'] = (game.groupby('user_id').agg({'event_datetime':'last'})\n",
    "        .rename(columns={'event_datetime':'last'}))\n",
    "time['day_hour'] = (time['last']-time['first']).dt.round('H')\n",
    "time['day'] = time['day_hour'].dt.total_seconds() / (24 * 60 * 60)\n",
    "time = time.reset_index().sort_values(by='first')\n",
    "time = time.merge(source, on='user_id', how='left')\n",
    "time['date'] = time['first'].dt.date\n",
    "time"
   ]
  },
  {
   "cell_type": "code",
   "execution_count": 23,
   "id": "ac0d6ac7",
   "metadata": {},
   "outputs": [
    {
     "data": {
      "image/png": "[encoded data removed]",
      "text/plain": [
       "<Figure size 1000x600 with 1 Axes>"
      ]
     },
     "metadata": {},
     "output_type": "display_data"
    }
   ],
   "source": [
    "time.boxplot('day', by='source', fontsize=12, figsize=(10,6))\n",
    "plt.title('Скольео дней необходимо пользователям для прохождения 1 уровня')\n",
    "plt.xlabel('Канал привлечения пользователей');"
   ]
  },
  {
   "cell_type": "code",
   "execution_count": 24,
   "id": "79d761ac",
   "metadata": {},
   "outputs": [
    {
     "data": {
      "text/plain": [
       "source\n",
       "facebook_ads               10.731658\n",
       "instagram_new_adverts      10.788666\n",
       "yandex_direct              10.615546\n",
       "youtube_channel_reklama    10.586700\n",
       "Name: day, dtype: float64"
      ]
     },
     "execution_count": 24,
     "metadata": {},
     "output_type": "execute_result"
    }
   ],
   "source": [
    "time.groupby('source')['day'].mean()"
   ]
  },
  {
   "cell_type": "code",
   "execution_count": 25,
   "id": "3123f8fb",
   "metadata": {
    "scrolled": true
   },
   "outputs": [
    {
     "data": {
      "text/plain": [
       "source\n",
       "facebook_ads              30 days 08:00:00\n",
       "instagram_new_adverts     30 days 10:00:00\n",
       "yandex_direct             30 days 22:00:00\n",
       "youtube_channel_reklama   29 days 02:00:00\n",
       "Name: day_hour, dtype: timedelta64[ns]"
      ]
     },
     "execution_count": 25,
     "metadata": {},
     "output_type": "execute_result"
    }
   ],
   "source": [
    "time.groupby('source')['day_hour'].max()"
   ]
  },
  {
   "cell_type": "code",
   "execution_count": 26,
   "id": "d7670b85",
   "metadata": {},
   "outputs": [
    {
     "data": {
      "text/plain": [
       "source\n",
       "facebook_ads               18\n",
       "instagram_new_adverts      22\n",
       "yandex_direct              37\n",
       "youtube_channel_reklama    29\n",
       "Name: user_id, dtype: int64"
      ]
     },
     "execution_count": 26,
     "metadata": {},
     "output_type": "execute_result"
    }
   ],
   "source": [
    "time.query('day < 1').groupby('source')['user_id'].count()"
   ]
  },
  {
   "cell_type": "code",
   "execution_count": 27,
   "id": "f8dbe1f3",
   "metadata": {},
   "outputs": [
    {
     "name": "stdout",
     "output_type": "stream",
     "text": [
      "Процент пользователей, которые были в игре меньше одних суток: source\n",
      "facebook_ads               0.66\n",
      "instagram_new_adverts      0.66\n",
      "yandex_direct              0.77\n",
      "youtube_channel_reklama    1.08\n",
      "Name: user_id, dtype: float64\n"
     ]
    }
   ],
   "source": [
    "print('Процент пользователей, которые были в игре меньше одних суток:', (time.query('day < 1')\n",
    "           .groupby('source')['user_id'].count()*100/source.groupby('source')['user_id'].nunique()).round(2))"
   ]
  },
  {
   "cell_type": "code",
   "execution_count": 28,
   "id": "d01f75cb",
   "metadata": {},
   "outputs": [
    {
     "name": "stdout",
     "output_type": "stream",
     "text": [
      "Процент пользователей, которые были в игре больше 22 дней: source\n",
      "facebook_ads               0.99\n",
      "instagram_new_adverts      1.20\n",
      "yandex_direct              1.06\n",
      "youtube_channel_reklama    1.01\n",
      "Name: user_id, dtype: float64\n"
     ]
    }
   ],
   "source": [
    "print('Процент пользователей, которые были в игре больше 22 дней:', (time.query('day > 22')\n",
    "           .groupby('source')['user_id'].count()*100/source.groupby('source')['user_id'].nunique()).round(2))"
   ]
  },
  {
   "cell_type": "code",
   "execution_count": 29,
   "id": "1d3e5454",
   "metadata": {
    "scrolled": true
   },
   "outputs": [
    {
     "data": {
      "image/png": "[encoded data removed]",
      "text/plain": [
       "<Figure size 640x480 with 1 Axes>"
      ]
     },
     "metadata": {},
     "output_type": "display_data"
    }
   ],
   "source": [
    "time.groupby('source')['day'].hist(bins=25, alpha=0.30)\n",
    "plt.legend(['facebook', 'instagram', 'yandex', 'youtube'])\n",
    "plt.title('Распределение игроков по времени проведенном в игре')\n",
    "plt.xlabel('Время проведенное в игре')\n",
    "plt.ylabel('Количество игроков');"
   ]
  },
  {
   "cell_type": "code",
   "execution_count": 30,
   "id": "57cc2d02",
   "metadata": {},
   "outputs": [
    {
     "data": {
      "image/png": "[encoded data removed]",
      "text/plain": [
       "<Figure size 1500x800 with 4 Axes>"
      ]
     },
     "metadata": {},
     "output_type": "display_data"
    }
   ],
   "source": [
    "plt.figure(figsize=(15,8))\n",
    "plt.subplots_adjust(hspace=0.5)\n",
    "plt.suptitle('Распределение игроков по времени проведенном в игре по каналам',\n",
    "             y = 1,\n",
    "             fontsize = 15)\n",
    "\n",
    "plt.subplot(2,2,1)\n",
    "time.query('source == \"yandex_direct\"').groupby('source')['day'].hist(bins=25)\n",
    "plt.title('Время проведенное в игре пользователей из канала yandex')\n",
    "plt.ylim([0,600])\n",
    "plt.xlabel('Время проведенное в игре')\n",
    "plt.ylabel('Количество игроков')\n",
    "plt.subplot(2,2,2)\n",
    "time.query('source == \"facebook_ads\"').groupby('source')['day'].hist(bins=25)\n",
    "plt.title('Время проведенное в игре пользователей из канала facebook')\n",
    "plt.ylim([0,600])\n",
    "plt.xlabel('Время проведенное в игре')\n",
    "plt.ylabel('Количество игроков')\n",
    "plt.subplot(2,2,3)\n",
    "time.query('source == \"instagram_new_adverts\"').groupby('source')['day'].hist(bins=25)\n",
    "plt.title('Время проведенное в игре пользователей из канала instagram')\n",
    "plt.ylim([0,600])\n",
    "plt.xlabel('Время проведенное в игре')\n",
    "plt.ylabel('Количество игроков')\n",
    "plt.subplot(2,2,4)\n",
    "time.query('source == \"youtube_channel_reklama\"').groupby('source')['day'].hist(bins=25)\n",
    "plt.title('Время проведенное в игре пользователей из канала youtube')\n",
    "plt.ylim([0,600])\n",
    "plt.xlabel('Время проведенное в игре')\n",
    "plt.ylabel('Количество игроков');"
   ]
  },
  {
   "cell_type": "markdown",
   "id": "f735f4de",
   "metadata": {},
   "source": [
    "В основном игроки проводят на первом уровне от 7 до 14 дней. \n",
    "\n",
    "В среднем игроки с канала `youtube` проводят 10 дней 14 часов 4 минуты, с канала `yandex` 10 дней 14 часов 46 минут, с канала `facebook` 10 дней 17 часов 33 минуты, `instagram` 10 дней 18 часов 55 минут. \n",
    "\n",
    "Есть игроки, которые играют больше 22 дней, с канала `facebook` их 0.99 %, с канала `youtube` 1.01 %, `yandex` 1.06 %, `instagram` 1.20 %. \n",
    "\n",
    "Есть игроки, которые играли меньше суток: с канала `facebook` 0.66 %, `instagram` 0.66 %, `yandex` 0.77 %, `youtube` 1.08 %."
   ]
  },
  {
   "cell_type": "markdown",
   "id": "e64990fe",
   "metadata": {},
   "source": [
    "#### Анализ стоимости рекламы на одного клиента"
   ]
  },
  {
   "cell_type": "code",
   "execution_count": 31,
   "id": "0d885dfd",
   "metadata": {},
   "outputs": [
    {
     "data": {
      "text/html": [
       "<div>\n",
       "<style scoped>\n",
       "    .dataframe tbody tr th:only-of-type {\n",
       "        vertical-align: middle;\n",
       "    }\n",
       "\n",
       "    .dataframe tbody tr th {\n",
       "        vertical-align: top;\n",
       "    }\n",
       "\n",
       "    .dataframe thead th {\n",
       "        text-align: right;\n",
       "    }\n",
       "</style>\n",
       "<table border=\"1\" class=\"dataframe\">\n",
       "  <thead>\n",
       "    <tr style=\"text-align: right;\">\n",
       "      <th></th>\n",
       "      <th>source</th>\n",
       "      <th>date</th>\n",
       "      <th>user_id</th>\n",
       "      <th>CAC</th>\n",
       "    </tr>\n",
       "  </thead>\n",
       "  <tbody>\n",
       "    <tr>\n",
       "      <th>0</th>\n",
       "      <td>facebook_ads</td>\n",
       "      <td>2020-05-04</td>\n",
       "      <td>1184</td>\n",
       "      <td>0.79</td>\n",
       "    </tr>\n",
       "    <tr>\n",
       "      <th>1</th>\n",
       "      <td>facebook_ads</td>\n",
       "      <td>2020-05-05</td>\n",
       "      <td>694</td>\n",
       "      <td>0.79</td>\n",
       "    </tr>\n",
       "    <tr>\n",
       "      <th>2</th>\n",
       "      <td>facebook_ads</td>\n",
       "      <td>2020-05-06</td>\n",
       "      <td>345</td>\n",
       "      <td>0.75</td>\n",
       "    </tr>\n",
       "    <tr>\n",
       "      <th>3</th>\n",
       "      <td>facebook_ads</td>\n",
       "      <td>2020-05-07</td>\n",
       "      <td>224</td>\n",
       "      <td>0.79</td>\n",
       "    </tr>\n",
       "    <tr>\n",
       "      <th>4</th>\n",
       "      <td>facebook_ads</td>\n",
       "      <td>2020-05-08</td>\n",
       "      <td>139</td>\n",
       "      <td>0.80</td>\n",
       "    </tr>\n",
       "    <tr>\n",
       "      <th>5</th>\n",
       "      <td>facebook_ads</td>\n",
       "      <td>2020-05-09</td>\n",
       "      <td>84</td>\n",
       "      <td>0.81</td>\n",
       "    </tr>\n",
       "    <tr>\n",
       "      <th>6</th>\n",
       "      <td>facebook_ads</td>\n",
       "      <td>2020-05-10</td>\n",
       "      <td>56</td>\n",
       "      <td>0.69</td>\n",
       "    </tr>\n",
       "    <tr>\n",
       "      <th>7</th>\n",
       "      <td>instagram_new_adverts</td>\n",
       "      <td>2020-05-04</td>\n",
       "      <td>1452</td>\n",
       "      <td>0.65</td>\n",
       "    </tr>\n",
       "    <tr>\n",
       "      <th>8</th>\n",
       "      <td>instagram_new_adverts</td>\n",
       "      <td>2020-05-05</td>\n",
       "      <td>796</td>\n",
       "      <td>0.63</td>\n",
       "    </tr>\n",
       "    <tr>\n",
       "      <th>9</th>\n",
       "      <td>instagram_new_adverts</td>\n",
       "      <td>2020-05-06</td>\n",
       "      <td>472</td>\n",
       "      <td>0.67</td>\n",
       "    </tr>\n",
       "    <tr>\n",
       "      <th>10</th>\n",
       "      <td>instagram_new_adverts</td>\n",
       "      <td>2020-05-07</td>\n",
       "      <td>270</td>\n",
       "      <td>0.64</td>\n",
       "    </tr>\n",
       "    <tr>\n",
       "      <th>11</th>\n",
       "      <td>instagram_new_adverts</td>\n",
       "      <td>2020-05-08</td>\n",
       "      <td>175</td>\n",
       "      <td>0.63</td>\n",
       "    </tr>\n",
       "    <tr>\n",
       "      <th>12</th>\n",
       "      <td>instagram_new_adverts</td>\n",
       "      <td>2020-05-09</td>\n",
       "      <td>112</td>\n",
       "      <td>0.64</td>\n",
       "    </tr>\n",
       "    <tr>\n",
       "      <th>13</th>\n",
       "      <td>instagram_new_adverts</td>\n",
       "      <td>2020-05-10</td>\n",
       "      <td>70</td>\n",
       "      <td>0.67</td>\n",
       "    </tr>\n",
       "    <tr>\n",
       "      <th>14</th>\n",
       "      <td>yandex_direct</td>\n",
       "      <td>2020-05-04</td>\n",
       "      <td>2078</td>\n",
       "      <td>0.47</td>\n",
       "    </tr>\n",
       "    <tr>\n",
       "      <th>15</th>\n",
       "      <td>yandex_direct</td>\n",
       "      <td>2020-05-05</td>\n",
       "      <td>1208</td>\n",
       "      <td>0.46</td>\n",
       "    </tr>\n",
       "    <tr>\n",
       "      <th>16</th>\n",
       "      <td>yandex_direct</td>\n",
       "      <td>2020-05-06</td>\n",
       "      <td>664</td>\n",
       "      <td>0.46</td>\n",
       "    </tr>\n",
       "    <tr>\n",
       "      <th>17</th>\n",
       "      <td>yandex_direct</td>\n",
       "      <td>2020-05-07</td>\n",
       "      <td>395</td>\n",
       "      <td>0.46</td>\n",
       "    </tr>\n",
       "    <tr>\n",
       "      <th>18</th>\n",
       "      <td>yandex_direct</td>\n",
       "      <td>2020-05-08</td>\n",
       "      <td>239</td>\n",
       "      <td>0.48</td>\n",
       "    </tr>\n",
       "    <tr>\n",
       "      <th>19</th>\n",
       "      <td>yandex_direct</td>\n",
       "      <td>2020-05-09</td>\n",
       "      <td>144</td>\n",
       "      <td>0.44</td>\n",
       "    </tr>\n",
       "    <tr>\n",
       "      <th>20</th>\n",
       "      <td>yandex_direct</td>\n",
       "      <td>2020-05-10</td>\n",
       "      <td>89</td>\n",
       "      <td>0.48</td>\n",
       "    </tr>\n",
       "    <tr>\n",
       "      <th>21</th>\n",
       "      <td>youtube_channel_reklama</td>\n",
       "      <td>2020-05-04</td>\n",
       "      <td>1146</td>\n",
       "      <td>0.40</td>\n",
       "    </tr>\n",
       "    <tr>\n",
       "      <th>22</th>\n",
       "      <td>youtube_channel_reklama</td>\n",
       "      <td>2020-05-05</td>\n",
       "      <td>663</td>\n",
       "      <td>0.39</td>\n",
       "    </tr>\n",
       "    <tr>\n",
       "      <th>23</th>\n",
       "      <td>youtube_channel_reklama</td>\n",
       "      <td>2020-05-06</td>\n",
       "      <td>366</td>\n",
       "      <td>0.40</td>\n",
       "    </tr>\n",
       "    <tr>\n",
       "      <th>24</th>\n",
       "      <td>youtube_channel_reklama</td>\n",
       "      <td>2020-05-07</td>\n",
       "      <td>220</td>\n",
       "      <td>0.40</td>\n",
       "    </tr>\n",
       "    <tr>\n",
       "      <th>25</th>\n",
       "      <td>youtube_channel_reklama</td>\n",
       "      <td>2020-05-08</td>\n",
       "      <td>135</td>\n",
       "      <td>0.41</td>\n",
       "    </tr>\n",
       "    <tr>\n",
       "      <th>26</th>\n",
       "      <td>youtube_channel_reklama</td>\n",
       "      <td>2020-05-09</td>\n",
       "      <td>100</td>\n",
       "      <td>0.40</td>\n",
       "    </tr>\n",
       "    <tr>\n",
       "      <th>27</th>\n",
       "      <td>youtube_channel_reklama</td>\n",
       "      <td>2020-05-10</td>\n",
       "      <td>56</td>\n",
       "      <td>0.42</td>\n",
       "    </tr>\n",
       "  </tbody>\n",
       "</table>\n",
       "</div>"
      ],
      "text/plain": [
       "                     source        date  user_id   CAC\n",
       "0              facebook_ads  2020-05-04     1184  0.79\n",
       "1              facebook_ads  2020-05-05      694  0.79\n",
       "2              facebook_ads  2020-05-06      345  0.75\n",
       "3              facebook_ads  2020-05-07      224  0.79\n",
       "4              facebook_ads  2020-05-08      139  0.80\n",
       "5              facebook_ads  2020-05-09       84  0.81\n",
       "6              facebook_ads  2020-05-10       56  0.69\n",
       "7     instagram_new_adverts  2020-05-04     1452  0.65\n",
       "8     instagram_new_adverts  2020-05-05      796  0.63\n",
       "9     instagram_new_adverts  2020-05-06      472  0.67\n",
       "10    instagram_new_adverts  2020-05-07      270  0.64\n",
       "11    instagram_new_adverts  2020-05-08      175  0.63\n",
       "12    instagram_new_adverts  2020-05-09      112  0.64\n",
       "13    instagram_new_adverts  2020-05-10       70  0.67\n",
       "14            yandex_direct  2020-05-04     2078  0.47\n",
       "15            yandex_direct  2020-05-05     1208  0.46\n",
       "16            yandex_direct  2020-05-06      664  0.46\n",
       "17            yandex_direct  2020-05-07      395  0.46\n",
       "18            yandex_direct  2020-05-08      239  0.48\n",
       "19            yandex_direct  2020-05-09      144  0.44\n",
       "20            yandex_direct  2020-05-10       89  0.48\n",
       "21  youtube_channel_reklama  2020-05-04     1146  0.40\n",
       "22  youtube_channel_reklama  2020-05-05      663  0.39\n",
       "23  youtube_channel_reklama  2020-05-06      366  0.40\n",
       "24  youtube_channel_reklama  2020-05-07      220  0.40\n",
       "25  youtube_channel_reklama  2020-05-08      135  0.41\n",
       "26  youtube_channel_reklama  2020-05-09      100  0.40\n",
       "27  youtube_channel_reklama  2020-05-10       56  0.42"
      ]
     },
     "execution_count": 31,
     "metadata": {},
     "output_type": "execute_result"
    }
   ],
   "source": [
    "cost_user = time.groupby(['source', 'date'])['user_id'].count().reset_index()\n",
    "cost_user['CAC'] = (costs['cost']/cost_user['user_id']).round(2)\n",
    "cost_user"
   ]
  },
  {
   "cell_type": "code",
   "execution_count": 32,
   "id": "d873e982",
   "metadata": {},
   "outputs": [
    {
     "ename": "AttributeError",
     "evalue": "'float' object has no attribute 'round'",
     "output_type": "error",
     "traceback": [
      "\u001b[1;31m---------------------------------------------------------------------------\u001b[0m",
      "\u001b[1;31mAttributeError\u001b[0m                            Traceback (most recent call last)",
      "\u001b[1;32m~\\AppData\\Local\\Temp\\ipykernel_25232\\4071720061.py\u001b[0m in \u001b[0;36m<module>\u001b[1;34m\u001b[0m\n\u001b[1;32m----> 1\u001b[1;33m \u001b[0mprint\u001b[0m\u001b[1;33m(\u001b[0m\u001b[1;34m'Средний CAC на одного пользователя в целом:'\u001b[0m\u001b[1;33m,\u001b[0m \u001b[1;33m(\u001b[0m\u001b[0mcost_user\u001b[0m\u001b[1;33m[\u001b[0m\u001b[1;34m'CAC'\u001b[0m\u001b[1;33m]\u001b[0m\u001b[1;33m.\u001b[0m\u001b[0mmean\u001b[0m\u001b[1;33m(\u001b[0m\u001b[1;33m)\u001b[0m\u001b[1;33m)\u001b[0m\u001b[1;33m.\u001b[0m\u001b[0mround\u001b[0m\u001b[1;33m(\u001b[0m\u001b[1;36m2\u001b[0m\u001b[1;33m)\u001b[0m\u001b[1;33m)\u001b[0m\u001b[1;33m\u001b[0m\u001b[1;33m\u001b[0m\u001b[0m\n\u001b[0m",
      "\u001b[1;31mAttributeError\u001b[0m: 'float' object has no attribute 'round'"
     ]
    }
   ],
   "source": [
    "print('Средний CAC на одного пользователя в целом:', (cost_user['CAC'].mean()).round(2))"
   ]
  },
  {
   "cell_type": "code",
   "execution_count": null,
   "id": "c1bb770f",
   "metadata": {},
   "outputs": [],
   "source": [
    "(\n",
    "    cost_user.pivot_table(index='date', columns='source', values='CAC', aggfunc='mean')\n",
    "    .plot(figsize=(10,4), grid=True, title='Стоимость привлечения клиента по каналам за 7 дней')\n",
    ")\n",
    "plt.xlabel('Дата')\n",
    "plt.ylabel('Стоимость')\n",
    "plt.legend(['facebook', 'instagram', 'yandex', 'youtube']);"
   ]
  },
  {
   "cell_type": "code",
   "execution_count": null,
   "id": "f8f3e7b2",
   "metadata": {},
   "outputs": [],
   "source": [
    "print('Средний CAC на одного пользователя по каналам:',\\\n",
    "      (cost_user.groupby('source')['CAC'].mean()).round(2))"
   ]
  },
  {
   "cell_type": "markdown",
   "id": "1fb0467e",
   "metadata": {},
   "source": [
    "Средний CAC на одного пользователя в целом: 0.57\n",
    "\n",
    "Самая высокая стоимость за одного клиента у канала `facebook`, в среднем за семь дней она равна 0,77. Самая низкая у канала `youtube`, в среднем за семь дней она равна 0,40. У канала `instagram` выше среднего - 0,65, а у канала `yandex` ниже среднего - 0,46."
   ]
  },
  {
   "cell_type": "code",
   "execution_count": null,
   "id": "48ec1cc1",
   "metadata": {},
   "outputs": [],
   "source": [
    "print('Общая сумма расходов за неделю:', round(sum(costs['cost']), 2))\n",
    "expenses = costs.groupby('source')['cost'].sum().round(2).sort_values().reset_index()\n",
    "expenses['%'] = (expenses['cost']*100/sum(costs['cost'])).round(2)\n",
    "expenses"
   ]
  },
  {
   "cell_type": "code",
   "execution_count": null,
   "id": "6a518385",
   "metadata": {},
   "outputs": [],
   "source": [
    "costs.groupby('source')['cost'].sum().round(2).plot(kind='pie', autopct='%1.0f%%', subplots=True)\n",
    "\n",
    "plt.title('Процент вложений в разные источники рекламы')\n",
    "plt.ylabel('')\n",
    "plt.show()"
   ]
  },
  {
   "cell_type": "markdown",
   "id": "2756ac09",
   "metadata": {},
   "source": [
    "Больше всего вложились в канал `yandex` 29%, в `instagram` и `facebook` ушло по 28% на каждый, меньше всего потратили на канал `youtube` - 14%."
   ]
  },
  {
   "cell_type": "code",
   "execution_count": null,
   "id": "296330f4",
   "metadata": {},
   "outputs": [],
   "source": [
    "(\n",
    "    cost_user.pivot_table(index='date', columns='source', values='user_id', aggfunc='mean')\n",
    "    .plot(figsize=(10,4), grid=True, title='Количество привлеченных клиентов по каналам за 7 дней')\n",
    ")\n",
    "plt.xlabel('Дата')\n",
    "plt.ylabel('Количество')\n",
    "plt.legend(['facebook', 'instagram', 'yandex', 'youtube']);"
   ]
  },
  {
   "cell_type": "markdown",
   "id": "fcacbcfa",
   "metadata": {},
   "source": [
    "Распределение по привлеченным клиентам не однородное, в данных очень много клиентов привлеченных в первый день и в 10 раз меньше, чем в последний день. \n",
    "\n",
    "По привлеченным клиентам лидирует канал `yandex`, меньше всего привлеченых клиентов по каналам `facebook` и `youtube`."
   ]
  },
  {
   "cell_type": "markdown",
   "id": "5686ecb3",
   "metadata": {},
   "source": [
    "#### Среднее число построеных зданий на игрока"
   ]
  },
  {
   "cell_type": "code",
   "execution_count": null,
   "id": "3da78eff",
   "metadata": {},
   "outputs": [],
   "source": [
    "df = game.merge(source, on='user_id', how='left')"
   ]
  },
  {
   "cell_type": "code",
   "execution_count": null,
   "id": "711bf184",
   "metadata": {},
   "outputs": [],
   "source": [
    "df['source'].isna().sum()"
   ]
  },
  {
   "cell_type": "code",
   "execution_count": null,
   "id": "fd80f383",
   "metadata": {},
   "outputs": [],
   "source": [
    "print('Среднее число зданий на игрока по каналам',\\\n",
    "      (df.groupby('source')['event'].count()/source.groupby('source')['user_id'].nunique()).round(1))"
   ]
  },
  {
   "cell_type": "markdown",
   "id": "757957fd",
   "metadata": {},
   "source": [
    "В среднем во всех каналах не сильно отличается количество построеных зданий, немного больше по каналу `facebook` - 10,2 и `instagram` - 10,1, немного меньше по каналу `youtube` и `yandex` - 9,9. "
   ]
  },
  {
   "cell_type": "markdown",
   "id": "49d94a0c",
   "metadata": {},
   "source": [
    "#### Процент пользователей прошедших 1й уровень"
   ]
  },
  {
   "cell_type": "code",
   "execution_count": null,
   "id": "95a1cd8f",
   "metadata": {},
   "outputs": [],
   "source": [
    "df.query('event == \"finished_stage_1\"').groupby('source')['event'].count()"
   ]
  },
  {
   "cell_type": "code",
   "execution_count": null,
   "id": "a1b5f5ca",
   "metadata": {
    "code_folding": []
   },
   "outputs": [],
   "source": [
    "print('Процент пользователей прошедших 1 уровень:',\\\n",
    "      (df.query('event == \"finished_stage_1\"')\n",
    "       .groupby('source')['event'].count()*100/source.groupby('source')['user_id'].nunique()).round(2))"
   ]
  },
  {
   "cell_type": "markdown",
   "id": "bbe702f9",
   "metadata": {},
   "source": [
    "Процент пользователей прошедших 1й уровень больше всего по каналу `instagram` - 43,8 %, затем `youtube` - 43,15 %, `yandex` - 42,39 % и `facebook` - 42,19 %."
   ]
  },
  {
   "cell_type": "markdown",
   "id": "d3101f55",
   "metadata": {},
   "source": [
    "#### Процент PvE пользователей в зависимости от разных каналов привлечения"
   ]
  },
  {
   "cell_type": "code",
   "execution_count": null,
   "id": "7465751d",
   "metadata": {},
   "outputs": [],
   "source": [
    "PvE_user = list(df.query('event == \"project\"')['user_id'])"
   ]
  },
  {
   "cell_type": "code",
   "execution_count": null,
   "id": "f44210a2",
   "metadata": {},
   "outputs": [],
   "source": [
    "df.query('user_id == @PvE_user')['user_id'].nunique()"
   ]
  },
  {
   "cell_type": "code",
   "execution_count": null,
   "id": "40ec098a",
   "metadata": {},
   "outputs": [],
   "source": [
    "df.query('user_id == @PvE_user').groupby('source')['user_id'].nunique()"
   ]
  },
  {
   "cell_type": "code",
   "execution_count": null,
   "id": "855d1cc3",
   "metadata": {},
   "outputs": [],
   "source": [
    "print('Процент PvE пользователей:',\\\n",
    "      (df.query('user_id == @PvE_user').groupby('source')['user_id']\n",
    "       .nunique()*100/df.query('event == \"finished_stage_1\"').groupby('source')['event'].count()).round(2))"
   ]
  },
  {
   "cell_type": "markdown",
   "id": "2575621a",
   "metadata": {},
   "source": [
    "Больше всего пользователей со стилем игры PvE привлеченных с канала  `facebook` - 34 %, затем идут каналы `youtube` - 32,7 % и `instagram` - 32,47 %, меньше пользователей с канала `yandex` - 30,36 %."
   ]
  },
  {
   "cell_type": "markdown",
   "id": "e05dd532",
   "metadata": {},
   "source": [
    "#### Вывод:\n",
    "\n",
    "- Дата первого события: 2020-05-04 00:00:01\n",
    "- Дата последнего события: 2020-06-05 12:32:49\n",
    "- Время, затраченное на сбор событий: 32 days 12:32:48\n",
    "\n",
    "Всего новых пользователей за неделю: 13576\n",
    "\n",
    "Количество привлеченных пользователей разными трафиками: \n",
    "+ youtube_channel_reklama -    2686\n",
    "+ facebook_ads -               2726\n",
    "+ instagram_new_adverts -      3347\n",
    "+ yandex_direct -              4817\n",
    "\n",
    "Распределение по привлеченным клиентам не однородное, в данных очень много клиентов привлеченных в первый день и в 10 раз меньше, чем в последний день.\n",
    "По привлеченным клиентам лидирует канал `yandex`, меньше всего привлеченых клиентов по каналам `facebook` и `youtube`.\n",
    "\n",
    "Из 13576 пользователей закончили первый уровень 5817 (43%). Завершили проект 1866 (14% от всех пользователей и 32% от пользователей, которые завершили первый уровень).\n",
    "\n",
    "В основном игроки проводят на первом уровне от 7 до 14 дней.\n",
    "В среднем игроки с канала `youtube` проводят 10 дней 14 часов 4 минуты, с канала `yandex` 10 дней 14 часов 46 минут, с канала `facebook` 10 дней 17 часов 33 минуты, `instagram` 10 дней 18 часов 55 минут.\n",
    "\n",
    "Есть игроки, которые играют больше 22 дней, с канала `facebook` их 0.99 %, с канала `youtube` 1.01 %, `yandex` 1.06 %, `instagram` 1.20 %.\n",
    "Есть игроки, которые играли меньше суток: с канала `facebook` 0.66 %, `instagram` 0.66 %, `yandex` 0.77 %, `youtube` 1.08 %.\n",
    "\n",
    "Средний CAC на одного пользователя в целом: 0.57\n",
    "\n",
    "Средний CAC на одного пользователя по каналам: \n",
    "+ facebook_ads              - 0.77\n",
    "+ instagram_new_adverts     - 0.65\n",
    "+ yandex_direct             - 0.46\n",
    "+ youtube_channel_reklama   - 0.40\n",
    "\n",
    "Общая сумма расходов за неделю: 7603.58\n",
    "\n",
    "Больше всего вложились в канал `yandex` 29%, в `instagram` и `facebook` ушло по 28% на каждый, меньше всего потратили на канал `youtube` - 14%.\n",
    "\n",
    "В среднем во всех каналах не сильно отличается количество построеных зданий, немного больше по каналу `facebook` - 10,2 и `instagram` - 10,1, немного меньше по каналу `youtube` и `yandex` - 9,9.\n",
    "\n",
    "Процент пользователей прошедших 1й уровень больше всего по каналу `instagram` - 43,8 %, затем `youtube` - 43,15 %, `yandex` - 42,39 % и `facebook` - 42,19 %.\n",
    "\n",
    "Больше всего пользователей со стилем игры PvE привлеченных с канала `facebook` - 34 %, затем идут каналы `youtube` - 32,7 % и `instagram` - 32,47 %, меньше пользователей с канала `yandex` - 30,36 %."
   ]
  },
  {
   "cell_type": "markdown",
   "id": "4ab6cc52",
   "metadata": {},
   "source": [
    "### Проверка статистических гипотез\n",
    "\n",
    "#### Гипотеза № 1\n",
    "Время завершения уровня различается в зависимости способа прохождения:\n",
    "   - *через реализацию проекта,*\n",
    "   - *через победу над первым игроком*\n",
    "   \n",
    "Н0 - среднее время завершения уровня не отличается\n",
    "\n",
    "Н1 - среднее время завершения уровня отличается"
   ]
  },
  {
   "cell_type": "code",
   "execution_count": null,
   "id": "ab0ec3d0",
   "metadata": {},
   "outputs": [],
   "source": [
    "user_final = game.query('event == \"finished_stage_1\"')['user_id']"
   ]
  },
  {
   "cell_type": "code",
   "execution_count": null,
   "id": "0bbee42f",
   "metadata": {},
   "outputs": [],
   "source": [
    "PvE = time.query('user_id in @user_final & user_id in @PvE_user')['day']\n",
    "PvP = time.query('user_id in @user_final & user_id != @PvE_user')['day']"
   ]
  },
  {
   "cell_type": "code",
   "execution_count": null,
   "id": "c8749a84",
   "metadata": {},
   "outputs": [],
   "source": [
    "PvP.count()"
   ]
  },
  {
   "cell_type": "code",
   "execution_count": null,
   "id": "4f770974",
   "metadata": {},
   "outputs": [],
   "source": [
    "alpha = .05\n",
    "\n",
    "results = st.ttest_ind(PvE, PvP)\n",
    "\n",
    "print('p-value:', results.pvalue)\n",
    "\n",
    "if results.pvalue < alpha:\n",
    "    print(\"Отвергаем нулевую гипотезу\")\n",
    "else:\n",
    "    print(\"Не получилось отвергнуть нулевую гипотезу\")"
   ]
  },
  {
   "cell_type": "markdown",
   "id": "7317b158",
   "metadata": {},
   "source": [
    "**Вывод:** Нулевую гипотезу отвергаем, а это значит, что среднее время завершения первого уровня различается в зависимости от способа прохождения игры. Намного больше пользователей, которые предпочитают стиль игры PvP."
   ]
  },
  {
   "cell_type": "markdown",
   "id": "80ea5dab",
   "metadata": {},
   "source": [
    "#### Гипотеза № 2\n",
    "\n",
    "Способ прохождения игры (Pvp, PvE) зависит от канала привлечения:\n",
    "  - *facebook*\n",
    "  - *instagram*\n",
    "  - *yandex*\n",
    "  - *youtube*\n",
    "  \n",
    "Н0 - различий между средним количеством PvP игроков нет\n",
    "\n",
    "Н1 - различия между средним количеством PvP игроков есть"
   ]
  },
  {
   "cell_type": "code",
   "execution_count": null,
   "id": "e2ffdbe3",
   "metadata": {},
   "outputs": [],
   "source": [
    "# функция проверки статистической значимости различий между группами\n",
    "def test (source1, source2):\n",
    "    results = st.mannwhitneyu(source1, source2)\n",
    "    print('p-значение:', results.pvalue)\n",
    "    if (results.pvalue < alpha):\n",
    "        print(\"Отвергаем нулевую гипотезу: между долями есть значимые различия\")\n",
    "    else:\n",
    "        print(\"Не получилось отвергнуть нулевую гипотезу, нет оснований считать доли разными\")\n",
    "    print('')"
   ]
  },
  {
   "cell_type": "code",
   "execution_count": null,
   "id": "9991c418",
   "metadata": {},
   "outputs": [],
   "source": [
    "PvE = time.query('user_id in @user_final & user_id in @PvE_user')['source'].reset_index()\n",
    "PvP = time.query('user_id in @user_final & user_id != @PvE_user')['source'].reset_index()\n",
    "PvE['style_game'] = 0\n",
    "PvP['style_game'] = 1\n",
    "data = pd.concat([PvE, PvP])"
   ]
  },
  {
   "cell_type": "code",
   "execution_count": null,
   "id": "aac7c0bd",
   "metadata": {},
   "outputs": [],
   "source": [
    "facebook = data.query('source == \"facebook_ads\"')['style_game']\n",
    "instagram = data.query('source == \"instagram_new_adverts\"')['style_game']\n",
    "yandex = data.query('source == \"yandex_direct\"')['style_game']\n",
    "youtube = data.query('source == \"youtube_channel_reklama\"')['style_game']"
   ]
  },
  {
   "cell_type": "code",
   "execution_count": null,
   "id": "61e83a99",
   "metadata": {},
   "outputs": [],
   "source": [
    "alpha = .05/6\n",
    "print('Сравнение facebook и instagram')\n",
    "test(facebook, instagram)\n",
    "print('Сравнение facebook и yandex')\n",
    "test(facebook, yandex)\n",
    "print('Сравнение facebook и youtube')\n",
    "test(facebook, youtube)\n",
    "print('Сравнение instagram и yandex')\n",
    "test(instagram, yandex)\n",
    "print('Сравнение instagram и youtube')\n",
    "test(instagram, youtube)\n",
    "print('Сравнение yandex и youtube')\n",
    "test(yandex, youtube)"
   ]
  },
  {
   "cell_type": "markdown",
   "id": "cee9f656",
   "metadata": {},
   "source": [
    "**Вывод:** Способ прохождения игры не зависит от каналов привлечения"
   ]
  },
  {
   "cell_type": "markdown",
   "id": "cc24d0d0",
   "metadata": {},
   "source": [
    "#### Гипотеза № 3\n",
    "\n",
    "Количество финалистов первого уровня зависит от канала привлечения:\n",
    "  - *facebook*\n",
    "  - *instagram*\n",
    "  - *yandex*\n",
    "  - *youtube*\n",
    "  \n",
    "Н0 - различий между средним количеством финалистов нет\n",
    "\n",
    "Н1 - различия между средним количеством финалистов есть"
   ]
  },
  {
   "cell_type": "code",
   "execution_count": null,
   "id": "174bec13",
   "metadata": {},
   "outputs": [],
   "source": [
    "finalist = time.query('user_id in @user_final')['source'].reset_index()\n",
    "not_finalist = time.query('user_id not in @user_final')['source'].reset_index()\n",
    "finalist['game'] = 1\n",
    "not_finalist['game'] = 0\n",
    "data = pd.concat([finalist, not_finalist])"
   ]
  },
  {
   "cell_type": "code",
   "execution_count": null,
   "id": "d40726c7",
   "metadata": {},
   "outputs": [],
   "source": [
    "plt.figure(figsize=(15,8))\n",
    "data.groupby('game')['game'].count().plot(kind='pie', autopct='%1.0f%%', subplots=True)\n",
    "\n",
    "plt.title('Количество пользователей закончивших первый уровень')\n",
    "plt.legend(['Не закончили 1 уровень','Закончили 1 уровень'])\n",
    "plt.ylabel('')\n",
    "plt.show()"
   ]
  },
  {
   "cell_type": "code",
   "execution_count": null,
   "id": "6e348242",
   "metadata": {},
   "outputs": [],
   "source": [
    "facebook = data.query('source == \"facebook_ads\"')['game']\n",
    "instagram = data.query('source == \"instagram_new_adverts\"')['game']\n",
    "yandex = data.query('source == \"yandex_direct\"')['game']\n",
    "youtube = data.query('source == \"youtube_channel_reklama\"')['game']"
   ]
  },
  {
   "cell_type": "code",
   "execution_count": null,
   "id": "931ea37c",
   "metadata": {},
   "outputs": [],
   "source": [
    "alpha = .05/6\n",
    "print('Сравнение facebook и instagram')\n",
    "test(facebook, instagram)\n",
    "print('Сравнение facebook и yandex')\n",
    "test(facebook, yandex)\n",
    "print('Сравнение facebook и youtube')\n",
    "test(facebook, youtube)\n",
    "print('Сравнение instagram и yandex')\n",
    "test(instagram, yandex)\n",
    "print('Сравнение instagram и youtube')\n",
    "test(instagram, youtube)\n",
    "print('Сравнение yandex и youtube')\n",
    "test(yandex, youtube)"
   ]
  },
  {
   "cell_type": "markdown",
   "id": "e64df23e",
   "metadata": {},
   "source": [
    "**ВЫвод:** Среднее количество игроков, завершивших первый уровень, не зависит от канала привлечения."
   ]
  },
  {
   "cell_type": "markdown",
   "id": "fe5cc98b",
   "metadata": {},
   "source": [
    "### Общий вывод и рекомендации\n",
    "\n",
    "Больше всего игроков пришло с канала `yandex` (35,5 %)\n",
    "\n",
    "Средняя стоимость привлеения клиента меньше всего у канала `youtube` (0.402857)\n",
    "\n",
    "Мы выяснили, что количество игроков прошедших первый уровень и способ прохождения игры не зависит от канала. Поэтому в выборе канала для дальнейшего сотрудничество можно опираться на стоимость рекламы.\n",
    "\n",
    "Каждый канал привлечения игроков имеет свои плюсы и в каждый стоит вкладываться. Приоритетным каналом можно выделить `yandex`, т.к. с него приходит большой поток пользователей с относительно небольшиой средней стоимостью привлечения клиента, затем канал `youtube`, т.к. у него самая низкая средняя стоимость привлечения клиента. "
   ]
  },
  {
   "cell_type": "code",
   "execution_count": null,
   "id": "a557e2f7",
   "metadata": {},
   "outputs": [],
   "source": []
  }
 ],
 "metadata": {
  "ExecuteTimeLog": [
   {
    "duration": 1102,
    "start_time": "2023-03-03T05:37:49.097Z"
   },
   {
    "duration": 7,
    "start_time": "2023-03-03T05:37:50.201Z"
   },
   {
    "duration": 9,
    "start_time": "2023-03-03T05:37:50.210Z"
   },
   {
    "duration": 265,
    "start_time": "2023-03-03T05:37:51.940Z"
   },
   {
    "duration": 1122,
    "start_time": "2023-03-03T05:37:57.384Z"
   },
   {
    "duration": 6,
    "start_time": "2023-03-03T05:37:58.508Z"
   },
   {
    "duration": 16,
    "start_time": "2023-03-03T05:37:58.515Z"
   },
   {
    "duration": 279,
    "start_time": "2023-03-03T05:37:58.533Z"
   },
   {
    "duration": 4,
    "start_time": "2023-03-03T05:37:58.815Z"
   },
   {
    "duration": 171,
    "start_time": "2023-03-03T05:37:58.821Z"
   },
   {
    "duration": 11,
    "start_time": "2023-03-03T05:37:58.994Z"
   },
   {
    "duration": 25,
    "start_time": "2023-03-03T05:37:59.006Z"
   },
   {
    "duration": 23,
    "start_time": "2023-03-03T05:37:59.037Z"
   },
   {
    "duration": 4,
    "start_time": "2023-03-03T05:37:59.062Z"
   },
   {
    "duration": 34,
    "start_time": "2023-03-03T05:37:59.067Z"
   },
   {
    "duration": 72,
    "start_time": "2023-03-03T05:37:59.103Z"
   },
   {
    "duration": 13,
    "start_time": "2023-03-03T05:37:59.177Z"
   },
   {
    "duration": 110,
    "start_time": "2023-03-03T05:37:59.195Z"
   },
   {
    "duration": 63,
    "start_time": "2023-03-03T05:37:59.306Z"
   },
   {
    "duration": 35,
    "start_time": "2023-03-03T05:37:59.371Z"
   },
   {
    "duration": 30,
    "start_time": "2023-03-03T05:37:59.408Z"
   },
   {
    "duration": 21,
    "start_time": "2023-03-03T05:37:59.440Z"
   },
   {
    "duration": 109,
    "start_time": "2023-03-03T05:37:59.463Z"
   },
   {
    "duration": 0,
    "start_time": "2023-03-03T05:37:59.575Z"
   },
   {
    "duration": 0,
    "start_time": "2023-03-03T05:37:59.576Z"
   },
   {
    "duration": 0,
    "start_time": "2023-03-03T05:37:59.577Z"
   },
   {
    "duration": 0,
    "start_time": "2023-03-03T05:37:59.579Z"
   },
   {
    "duration": 0,
    "start_time": "2023-03-03T05:37:59.580Z"
   },
   {
    "duration": 0,
    "start_time": "2023-03-03T05:37:59.581Z"
   },
   {
    "duration": 0,
    "start_time": "2023-03-03T05:37:59.583Z"
   },
   {
    "duration": 0,
    "start_time": "2023-03-03T05:37:59.584Z"
   },
   {
    "duration": 0,
    "start_time": "2023-03-03T05:37:59.585Z"
   },
   {
    "duration": 0,
    "start_time": "2023-03-03T05:37:59.586Z"
   },
   {
    "duration": 0,
    "start_time": "2023-03-03T05:37:59.587Z"
   },
   {
    "duration": 0,
    "start_time": "2023-03-03T05:37:59.588Z"
   },
   {
    "duration": 0,
    "start_time": "2023-03-03T05:37:59.589Z"
   },
   {
    "duration": 0,
    "start_time": "2023-03-03T05:37:59.590Z"
   },
   {
    "duration": 0,
    "start_time": "2023-03-03T05:37:59.591Z"
   },
   {
    "duration": 0,
    "start_time": "2023-03-03T05:37:59.592Z"
   },
   {
    "duration": 0,
    "start_time": "2023-03-03T05:37:59.593Z"
   },
   {
    "duration": 0,
    "start_time": "2023-03-03T05:37:59.594Z"
   },
   {
    "duration": 0,
    "start_time": "2023-03-03T05:37:59.596Z"
   },
   {
    "duration": 1,
    "start_time": "2023-03-03T05:37:59.596Z"
   },
   {
    "duration": 0,
    "start_time": "2023-03-03T05:37:59.598Z"
   },
   {
    "duration": 0,
    "start_time": "2023-03-03T05:37:59.638Z"
   },
   {
    "duration": 0,
    "start_time": "2023-03-03T05:37:59.639Z"
   },
   {
    "duration": 0,
    "start_time": "2023-03-03T05:37:59.640Z"
   },
   {
    "duration": 0,
    "start_time": "2023-03-03T05:37:59.641Z"
   },
   {
    "duration": 0,
    "start_time": "2023-03-03T05:37:59.642Z"
   },
   {
    "duration": 0,
    "start_time": "2023-03-03T05:37:59.643Z"
   },
   {
    "duration": 0,
    "start_time": "2023-03-03T05:37:59.644Z"
   },
   {
    "duration": 0,
    "start_time": "2023-03-03T05:37:59.645Z"
   },
   {
    "duration": 82,
    "start_time": "2023-03-03T05:41:00.618Z"
   },
   {
    "duration": 17,
    "start_time": "2023-03-03T05:41:06.391Z"
   },
   {
    "duration": 111,
    "start_time": "2023-03-03T05:41:07.658Z"
   },
   {
    "duration": 236,
    "start_time": "2023-03-03T05:41:07.829Z"
   },
   {
    "duration": 17,
    "start_time": "2023-03-03T05:41:08.067Z"
   },
   {
    "duration": 0,
    "start_time": "2023-03-03T05:41:08.086Z"
   },
   {
    "duration": 11,
    "start_time": "2023-03-03T05:41:08.234Z"
   },
   {
    "duration": 16,
    "start_time": "2023-03-03T05:41:08.748Z"
   },
   {
    "duration": 15,
    "start_time": "2023-03-03T05:41:08.779Z"
   },
   {
    "duration": 432,
    "start_time": "2023-03-03T05:41:08.808Z"
   },
   {
    "duration": 19,
    "start_time": "2023-03-03T05:41:09.242Z"
   },
   {
    "duration": 4,
    "start_time": "2023-03-03T05:41:09.263Z"
   },
   {
    "duration": 381,
    "start_time": "2023-03-03T05:41:09.269Z"
   },
   {
    "duration": 6,
    "start_time": "2023-03-03T05:41:09.652Z"
   },
   {
    "duration": 21,
    "start_time": "2023-03-03T05:41:09.660Z"
   },
   {
    "duration": 60,
    "start_time": "2023-03-03T05:41:09.683Z"
   },
   {
    "duration": 15,
    "start_time": "2023-03-03T05:41:09.744Z"
   },
   {
    "duration": 36,
    "start_time": "2023-03-03T05:41:09.761Z"
   },
   {
    "duration": 48,
    "start_time": "2023-03-03T05:41:09.799Z"
   },
   {
    "duration": 17,
    "start_time": "2023-03-03T05:41:09.849Z"
   },
   {
    "duration": 14,
    "start_time": "2023-03-03T05:41:09.868Z"
   },
   {
    "duration": 32,
    "start_time": "2023-03-03T05:41:09.884Z"
   },
   {
    "duration": 50,
    "start_time": "2023-03-03T05:41:09.918Z"
   },
   {
    "duration": 8,
    "start_time": "2023-03-03T05:41:09.970Z"
   },
   {
    "duration": 19,
    "start_time": "2023-03-03T05:41:09.979Z"
   },
   {
    "duration": 181,
    "start_time": "2023-03-03T05:41:10.000Z"
   },
   {
    "duration": 27,
    "start_time": "2023-03-03T05:41:10.184Z"
   },
   {
    "duration": 52,
    "start_time": "2023-03-03T05:41:10.212Z"
   },
   {
    "duration": 38,
    "start_time": "2023-03-03T05:41:10.266Z"
   },
   {
    "duration": 29,
    "start_time": "2023-03-03T05:41:10.306Z"
   },
   {
    "duration": 5,
    "start_time": "2023-03-03T05:48:19.545Z"
   },
   {
    "duration": 1068,
    "start_time": "2023-03-03T06:04:54.180Z"
   },
   {
    "duration": 7,
    "start_time": "2023-03-03T06:04:55.250Z"
   },
   {
    "duration": 7,
    "start_time": "2023-03-03T06:04:55.258Z"
   },
   {
    "duration": 265,
    "start_time": "2023-03-03T06:04:55.267Z"
   },
   {
    "duration": 4,
    "start_time": "2023-03-03T06:04:55.533Z"
   },
   {
    "duration": 164,
    "start_time": "2023-03-03T06:04:55.539Z"
   },
   {
    "duration": 12,
    "start_time": "2023-03-03T06:04:55.705Z"
   },
   {
    "duration": 21,
    "start_time": "2023-03-03T06:04:55.718Z"
   },
   {
    "duration": 23,
    "start_time": "2023-03-03T06:04:55.741Z"
   },
   {
    "duration": 4,
    "start_time": "2023-03-03T06:04:55.766Z"
   },
   {
    "duration": 27,
    "start_time": "2023-03-03T06:04:55.771Z"
   },
   {
    "duration": 83,
    "start_time": "2023-03-03T06:04:55.800Z"
   },
   {
    "duration": 10,
    "start_time": "2023-03-03T06:04:55.885Z"
   },
   {
    "duration": 106,
    "start_time": "2023-03-03T06:04:55.896Z"
   },
   {
    "duration": 67,
    "start_time": "2023-03-03T06:04:56.004Z"
   },
   {
    "duration": 34,
    "start_time": "2023-03-03T06:04:56.073Z"
   },
   {
    "duration": 8,
    "start_time": "2023-03-03T06:04:56.108Z"
   },
   {
    "duration": 48,
    "start_time": "2023-03-03T06:04:56.117Z"
   },
   {
    "duration": 124,
    "start_time": "2023-03-03T06:04:56.167Z"
   },
   {
    "duration": 0,
    "start_time": "2023-03-03T06:04:56.293Z"
   },
   {
    "duration": 0,
    "start_time": "2023-03-03T06:04:56.295Z"
   },
   {
    "duration": 0,
    "start_time": "2023-03-03T06:04:56.296Z"
   },
   {
    "duration": 0,
    "start_time": "2023-03-03T06:04:56.298Z"
   },
   {
    "duration": 0,
    "start_time": "2023-03-03T06:04:56.299Z"
   },
   {
    "duration": 0,
    "start_time": "2023-03-03T06:04:56.301Z"
   },
   {
    "duration": 0,
    "start_time": "2023-03-03T06:04:56.303Z"
   },
   {
    "duration": 0,
    "start_time": "2023-03-03T06:04:56.304Z"
   },
   {
    "duration": 0,
    "start_time": "2023-03-03T06:04:56.306Z"
   },
   {
    "duration": 0,
    "start_time": "2023-03-03T06:04:56.307Z"
   },
   {
    "duration": 0,
    "start_time": "2023-03-03T06:04:56.309Z"
   },
   {
    "duration": 0,
    "start_time": "2023-03-03T06:04:56.310Z"
   },
   {
    "duration": 0,
    "start_time": "2023-03-03T06:04:56.339Z"
   },
   {
    "duration": 0,
    "start_time": "2023-03-03T06:04:56.340Z"
   },
   {
    "duration": 0,
    "start_time": "2023-03-03T06:04:56.342Z"
   },
   {
    "duration": 0,
    "start_time": "2023-03-03T06:04:56.343Z"
   },
   {
    "duration": 0,
    "start_time": "2023-03-03T06:04:56.345Z"
   },
   {
    "duration": 0,
    "start_time": "2023-03-03T06:04:56.347Z"
   },
   {
    "duration": 0,
    "start_time": "2023-03-03T06:04:56.347Z"
   },
   {
    "duration": 0,
    "start_time": "2023-03-03T06:04:56.349Z"
   },
   {
    "duration": 1,
    "start_time": "2023-03-03T06:04:56.350Z"
   },
   {
    "duration": 0,
    "start_time": "2023-03-03T06:04:56.352Z"
   },
   {
    "duration": 0,
    "start_time": "2023-03-03T06:04:56.353Z"
   },
   {
    "duration": 0,
    "start_time": "2023-03-03T06:04:56.356Z"
   },
   {
    "duration": 0,
    "start_time": "2023-03-03T06:04:56.358Z"
   },
   {
    "duration": 0,
    "start_time": "2023-03-03T06:04:56.359Z"
   },
   {
    "duration": 0,
    "start_time": "2023-03-03T06:04:56.361Z"
   },
   {
    "duration": 0,
    "start_time": "2023-03-03T06:04:56.362Z"
   },
   {
    "duration": 0,
    "start_time": "2023-03-03T06:04:56.362Z"
   },
   {
    "duration": 71,
    "start_time": "2023-03-03T13:34:43.897Z"
   },
   {
    "duration": 1666,
    "start_time": "2023-03-03T13:34:52.139Z"
   },
   {
    "duration": 8,
    "start_time": "2023-03-03T13:34:53.807Z"
   },
   {
    "duration": 10,
    "start_time": "2023-03-03T13:34:53.817Z"
   },
   {
    "duration": 1311,
    "start_time": "2023-03-03T13:34:53.830Z"
   },
   {
    "duration": 5,
    "start_time": "2023-03-03T13:34:55.142Z"
   },
   {
    "duration": 256,
    "start_time": "2023-03-03T13:34:55.149Z"
   },
   {
    "duration": 19,
    "start_time": "2023-03-03T13:34:55.407Z"
   },
   {
    "duration": 18,
    "start_time": "2023-03-03T13:34:55.440Z"
   },
   {
    "duration": 27,
    "start_time": "2023-03-03T13:34:55.460Z"
   },
   {
    "duration": 5,
    "start_time": "2023-03-03T13:34:55.492Z"
   },
   {
    "duration": 75,
    "start_time": "2023-03-03T13:34:55.500Z"
   },
   {
    "duration": 96,
    "start_time": "2023-03-03T13:34:55.577Z"
   },
   {
    "duration": 15,
    "start_time": "2023-03-03T13:34:55.675Z"
   },
   {
    "duration": 143,
    "start_time": "2023-03-03T13:34:55.692Z"
   },
   {
    "duration": 84,
    "start_time": "2023-03-03T13:34:55.837Z"
   },
   {
    "duration": 69,
    "start_time": "2023-03-03T13:34:55.923Z"
   },
   {
    "duration": 9,
    "start_time": "2023-03-03T13:34:55.994Z"
   },
   {
    "duration": 44,
    "start_time": "2023-03-03T13:34:56.005Z"
   },
   {
    "duration": 173,
    "start_time": "2023-03-03T13:34:56.051Z"
   },
   {
    "duration": 0,
    "start_time": "2023-03-03T13:34:56.227Z"
   },
   {
    "duration": 0,
    "start_time": "2023-03-03T13:34:56.229Z"
   },
   {
    "duration": 0,
    "start_time": "2023-03-03T13:34:56.241Z"
   },
   {
    "duration": 0,
    "start_time": "2023-03-03T13:34:56.243Z"
   },
   {
    "duration": 0,
    "start_time": "2023-03-03T13:34:56.244Z"
   },
   {
    "duration": 0,
    "start_time": "2023-03-03T13:34:56.245Z"
   },
   {
    "duration": 0,
    "start_time": "2023-03-03T13:34:56.247Z"
   },
   {
    "duration": 0,
    "start_time": "2023-03-03T13:34:56.249Z"
   },
   {
    "duration": 0,
    "start_time": "2023-03-03T13:34:56.250Z"
   },
   {
    "duration": 0,
    "start_time": "2023-03-03T13:34:56.252Z"
   },
   {
    "duration": 0,
    "start_time": "2023-03-03T13:34:56.253Z"
   },
   {
    "duration": 0,
    "start_time": "2023-03-03T13:34:56.254Z"
   },
   {
    "duration": 0,
    "start_time": "2023-03-03T13:34:56.256Z"
   },
   {
    "duration": 0,
    "start_time": "2023-03-03T13:34:56.258Z"
   },
   {
    "duration": 0,
    "start_time": "2023-03-03T13:34:56.259Z"
   },
   {
    "duration": 0,
    "start_time": "2023-03-03T13:34:56.260Z"
   },
   {
    "duration": 0,
    "start_time": "2023-03-03T13:34:56.262Z"
   },
   {
    "duration": 0,
    "start_time": "2023-03-03T13:34:56.263Z"
   },
   {
    "duration": 0,
    "start_time": "2023-03-03T13:34:56.264Z"
   },
   {
    "duration": 1,
    "start_time": "2023-03-03T13:34:56.265Z"
   },
   {
    "duration": 0,
    "start_time": "2023-03-03T13:34:56.267Z"
   },
   {
    "duration": 0,
    "start_time": "2023-03-03T13:34:56.268Z"
   },
   {
    "duration": 0,
    "start_time": "2023-03-03T13:34:56.277Z"
   },
   {
    "duration": 0,
    "start_time": "2023-03-03T13:34:56.279Z"
   },
   {
    "duration": 0,
    "start_time": "2023-03-03T13:34:56.281Z"
   },
   {
    "duration": 0,
    "start_time": "2023-03-03T13:34:56.282Z"
   },
   {
    "duration": 0,
    "start_time": "2023-03-03T13:34:56.283Z"
   },
   {
    "duration": 0,
    "start_time": "2023-03-03T13:34:56.285Z"
   },
   {
    "duration": 0,
    "start_time": "2023-03-03T13:34:56.286Z"
   },
   {
    "duration": 26,
    "start_time": "2023-03-03T13:35:13.928Z"
   },
   {
    "duration": 137,
    "start_time": "2023-03-03T13:35:18.054Z"
   },
   {
    "duration": 325,
    "start_time": "2023-03-03T13:35:20.895Z"
   },
   {
    "duration": 20,
    "start_time": "2023-03-03T13:35:22.036Z"
   },
   {
    "duration": 9,
    "start_time": "2023-03-03T13:35:51.164Z"
   },
   {
    "duration": 9,
    "start_time": "2023-03-03T13:36:05.170Z"
   },
   {
    "duration": 11,
    "start_time": "2023-03-03T13:36:41.706Z"
   },
   {
    "duration": 14,
    "start_time": "2023-03-03T13:36:59.325Z"
   },
   {
    "duration": 12,
    "start_time": "2023-03-03T13:37:12.349Z"
   },
   {
    "duration": 9,
    "start_time": "2023-03-03T13:38:15.291Z"
   },
   {
    "duration": 11,
    "start_time": "2023-03-03T13:38:15.858Z"
   },
   {
    "duration": 21,
    "start_time": "2023-03-03T13:38:17.322Z"
   },
   {
    "duration": 18,
    "start_time": "2023-03-03T13:38:18.442Z"
   },
   {
    "duration": 537,
    "start_time": "2023-03-03T13:38:19.156Z"
   },
   {
    "duration": 219,
    "start_time": "2023-03-03T13:47:25.483Z"
   },
   {
    "duration": 2010,
    "start_time": "2023-03-03T13:47:35.687Z"
   },
   {
    "duration": 313,
    "start_time": "2023-03-03T13:48:22.471Z"
   },
   {
    "duration": 49,
    "start_time": "2023-03-03T13:51:58.352Z"
   },
   {
    "duration": 332,
    "start_time": "2023-03-03T13:52:17.172Z"
   },
   {
    "duration": 701,
    "start_time": "2023-03-03T13:52:48.765Z"
   },
   {
    "duration": 599,
    "start_time": "2023-03-03T13:54:23.617Z"
   },
   {
    "duration": 614,
    "start_time": "2023-03-03T13:54:59.272Z"
   },
   {
    "duration": 581,
    "start_time": "2023-03-03T13:55:22.919Z"
   },
   {
    "duration": 1075,
    "start_time": "2023-03-03T13:57:30.951Z"
   },
   {
    "duration": 41,
    "start_time": "2023-03-03T13:58:08.665Z"
   },
   {
    "duration": 17,
    "start_time": "2023-03-03T13:58:13.532Z"
   },
   {
    "duration": 279,
    "start_time": "2023-03-03T13:58:27.842Z"
   },
   {
    "duration": 906,
    "start_time": "2023-03-03T13:59:10.349Z"
   },
   {
    "duration": 714,
    "start_time": "2023-03-03T13:59:57.071Z"
   },
   {
    "duration": 747,
    "start_time": "2023-03-03T14:00:17.901Z"
   },
   {
    "duration": 659,
    "start_time": "2023-03-03T14:00:29.134Z"
   },
   {
    "duration": 673,
    "start_time": "2023-03-03T14:00:35.536Z"
   },
   {
    "duration": 927,
    "start_time": "2023-03-03T14:09:37.535Z"
   },
   {
    "duration": 1044,
    "start_time": "2023-03-03T14:13:17.447Z"
   },
   {
    "duration": 1096,
    "start_time": "2023-03-03T14:14:02.140Z"
   },
   {
    "duration": 991,
    "start_time": "2023-03-03T14:14:21.741Z"
   },
   {
    "duration": 958,
    "start_time": "2023-03-03T14:14:49.113Z"
   },
   {
    "duration": 1006,
    "start_time": "2023-03-03T14:14:56.969Z"
   },
   {
    "duration": 1022,
    "start_time": "2023-03-03T14:17:44.643Z"
   },
   {
    "duration": 1134,
    "start_time": "2023-03-03T14:35:58.866Z"
   },
   {
    "duration": 7,
    "start_time": "2023-03-03T14:36:00.002Z"
   },
   {
    "duration": 10,
    "start_time": "2023-03-03T14:36:00.011Z"
   },
   {
    "duration": 269,
    "start_time": "2023-03-03T14:36:00.024Z"
   },
   {
    "duration": 5,
    "start_time": "2023-03-03T14:36:00.295Z"
   },
   {
    "duration": 230,
    "start_time": "2023-03-03T14:36:00.301Z"
   },
   {
    "duration": 16,
    "start_time": "2023-03-03T14:36:00.533Z"
   },
   {
    "duration": 26,
    "start_time": "2023-03-03T14:36:00.551Z"
   },
   {
    "duration": 43,
    "start_time": "2023-03-03T14:36:00.579Z"
   },
   {
    "duration": 5,
    "start_time": "2023-03-03T14:36:00.625Z"
   },
   {
    "duration": 61,
    "start_time": "2023-03-03T14:36:00.632Z"
   },
   {
    "duration": 67,
    "start_time": "2023-03-03T14:36:00.695Z"
   },
   {
    "duration": 11,
    "start_time": "2023-03-03T14:36:00.764Z"
   },
   {
    "duration": 114,
    "start_time": "2023-03-03T14:36:00.777Z"
   },
   {
    "duration": 74,
    "start_time": "2023-03-03T14:36:00.893Z"
   },
   {
    "duration": 34,
    "start_time": "2023-03-03T14:36:00.970Z"
   },
   {
    "duration": 34,
    "start_time": "2023-03-03T14:36:01.006Z"
   },
   {
    "duration": 30,
    "start_time": "2023-03-03T14:36:01.042Z"
   },
   {
    "duration": 32,
    "start_time": "2023-03-03T14:36:01.074Z"
   },
   {
    "duration": 142,
    "start_time": "2023-03-03T14:36:01.108Z"
   },
   {
    "duration": 235,
    "start_time": "2023-03-03T14:36:01.252Z"
   },
   {
    "duration": 7,
    "start_time": "2023-03-03T14:36:01.489Z"
   },
   {
    "duration": 40,
    "start_time": "2023-03-03T14:36:01.497Z"
   },
   {
    "duration": 11,
    "start_time": "2023-03-03T14:36:01.539Z"
   },
   {
    "duration": 29,
    "start_time": "2023-03-03T14:36:01.552Z"
   },
   {
    "duration": 18,
    "start_time": "2023-03-03T14:36:01.583Z"
   },
   {
    "duration": 456,
    "start_time": "2023-03-03T14:36:01.603Z"
   },
   {
    "duration": 736,
    "start_time": "2023-03-03T14:36:02.062Z"
   },
   {
    "duration": 17,
    "start_time": "2023-03-03T14:36:02.800Z"
   },
   {
    "duration": 23,
    "start_time": "2023-03-03T14:36:02.819Z"
   },
   {
    "duration": 431,
    "start_time": "2023-03-03T14:36:02.844Z"
   },
   {
    "duration": 6,
    "start_time": "2023-03-03T14:36:03.277Z"
   },
   {
    "duration": 14,
    "start_time": "2023-03-03T14:36:03.284Z"
   },
   {
    "duration": 333,
    "start_time": "2023-03-03T14:36:03.300Z"
   },
   {
    "duration": 41,
    "start_time": "2023-03-03T14:36:03.635Z"
   },
   {
    "duration": 11,
    "start_time": "2023-03-03T14:36:03.678Z"
   },
   {
    "duration": 53,
    "start_time": "2023-03-03T14:36:03.691Z"
   },
   {
    "duration": 40,
    "start_time": "2023-03-03T14:36:03.746Z"
   },
   {
    "duration": 24,
    "start_time": "2023-03-03T14:36:03.788Z"
   },
   {
    "duration": 29,
    "start_time": "2023-03-03T14:36:03.813Z"
   },
   {
    "duration": 24,
    "start_time": "2023-03-03T14:36:03.844Z"
   },
   {
    "duration": 41,
    "start_time": "2023-03-03T14:36:03.871Z"
   },
   {
    "duration": 34,
    "start_time": "2023-03-03T14:36:03.914Z"
   },
   {
    "duration": 14,
    "start_time": "2023-03-03T14:36:03.950Z"
   },
   {
    "duration": 12,
    "start_time": "2023-03-03T14:36:03.966Z"
   },
   {
    "duration": 5,
    "start_time": "2023-03-03T14:36:03.980Z"
   },
   {
    "duration": 20,
    "start_time": "2023-03-03T14:36:03.986Z"
   },
   {
    "duration": 36,
    "start_time": "2023-03-03T14:36:04.008Z"
   },
   {
    "duration": 30,
    "start_time": "2023-03-03T14:36:04.046Z"
   },
   {
    "duration": 5,
    "start_time": "2023-03-03T14:38:13.601Z"
   },
   {
    "duration": 8,
    "start_time": "2023-03-03T14:38:59.876Z"
   },
   {
    "duration": 6,
    "start_time": "2023-03-03T14:39:09.160Z"
   },
   {
    "duration": 100,
    "start_time": "2023-03-03T14:40:11.193Z"
   },
   {
    "duration": 15,
    "start_time": "2023-03-03T14:40:29.003Z"
   },
   {
    "duration": 20,
    "start_time": "2023-03-03T14:40:47.359Z"
   },
   {
    "duration": 16,
    "start_time": "2023-03-03T14:40:53.808Z"
   },
   {
    "duration": 13,
    "start_time": "2023-03-03T14:41:37.951Z"
   },
   {
    "duration": 34,
    "start_time": "2023-03-03T15:25:18.818Z"
   },
   {
    "duration": 18,
    "start_time": "2023-03-03T15:25:52.667Z"
   },
   {
    "duration": 15,
    "start_time": "2023-03-03T15:26:25.823Z"
   },
   {
    "duration": 31,
    "start_time": "2023-03-03T15:26:50.516Z"
   },
   {
    "duration": 39,
    "start_time": "2023-03-03T15:37:02.175Z"
   },
   {
    "duration": 185,
    "start_time": "2023-03-03T16:57:58.506Z"
   },
   {
    "duration": 161,
    "start_time": "2023-03-03T16:58:09.934Z"
   },
   {
    "duration": 130,
    "start_time": "2023-03-03T16:58:30.587Z"
   },
   {
    "duration": 21,
    "start_time": "2023-03-03T16:59:07.211Z"
   },
   {
    "duration": 215,
    "start_time": "2023-03-03T16:59:34.497Z"
   },
   {
    "duration": 12,
    "start_time": "2023-03-03T17:00:02.324Z"
   },
   {
    "duration": 126,
    "start_time": "2023-03-03T17:00:57.294Z"
   },
   {
    "duration": 103,
    "start_time": "2023-03-03T17:01:11.564Z"
   },
   {
    "duration": 133,
    "start_time": "2023-03-03T17:01:38.904Z"
   },
   {
    "duration": 19,
    "start_time": "2023-03-03T17:06:43.841Z"
   },
   {
    "duration": 21,
    "start_time": "2023-03-03T17:09:17.388Z"
   },
   {
    "duration": 231,
    "start_time": "2023-03-03T17:09:37.623Z"
   },
   {
    "duration": 114,
    "start_time": "2023-03-03T17:09:55.380Z"
   },
   {
    "duration": 105,
    "start_time": "2023-03-03T17:10:52.271Z"
   },
   {
    "duration": 166,
    "start_time": "2023-03-03T17:11:24.497Z"
   },
   {
    "duration": 115,
    "start_time": "2023-03-03T17:11:37.980Z"
   },
   {
    "duration": 52,
    "start_time": "2023-03-03T17:11:55.097Z"
   },
   {
    "duration": 4,
    "start_time": "2023-03-03T17:11:58.886Z"
   },
   {
    "duration": 31,
    "start_time": "2023-03-03T17:12:03.084Z"
   },
   {
    "duration": 28,
    "start_time": "2023-03-03T17:12:20.076Z"
   },
   {
    "duration": 111,
    "start_time": "2023-03-03T17:12:28.588Z"
   },
   {
    "duration": 103,
    "start_time": "2023-03-03T17:12:38.788Z"
   },
   {
    "duration": 153,
    "start_time": "2023-03-03T17:13:10.890Z"
   },
   {
    "duration": 185,
    "start_time": "2023-03-03T17:14:23.471Z"
   },
   {
    "duration": 158,
    "start_time": "2023-03-03T17:14:34.189Z"
   },
   {
    "duration": 23,
    "start_time": "2023-03-03T17:14:42.045Z"
   },
   {
    "duration": 135,
    "start_time": "2023-03-03T17:14:55.299Z"
   },
   {
    "duration": 150,
    "start_time": "2023-03-03T17:15:09.416Z"
   },
   {
    "duration": 123,
    "start_time": "2023-03-03T17:15:48.235Z"
   },
   {
    "duration": 127,
    "start_time": "2023-03-03T17:16:34.278Z"
   },
   {
    "duration": 152,
    "start_time": "2023-03-03T17:16:38.714Z"
   },
   {
    "duration": 125,
    "start_time": "2023-03-03T17:16:43.605Z"
   },
   {
    "duration": 10,
    "start_time": "2023-03-03T17:24:21.395Z"
   },
   {
    "duration": 157,
    "start_time": "2023-03-03T17:25:34.621Z"
   },
   {
    "duration": 114,
    "start_time": "2023-03-03T17:26:06.900Z"
   },
   {
    "duration": 140,
    "start_time": "2023-03-03T17:27:01.596Z"
   },
   {
    "duration": 143,
    "start_time": "2023-03-03T17:27:34.369Z"
   },
   {
    "duration": 141,
    "start_time": "2023-03-03T17:28:13.389Z"
   },
   {
    "duration": 130,
    "start_time": "2023-03-03T17:30:13.393Z"
   },
   {
    "duration": 111,
    "start_time": "2023-03-03T17:38:03.381Z"
   },
   {
    "duration": 109,
    "start_time": "2023-03-03T17:38:55.574Z"
   },
   {
    "duration": 128,
    "start_time": "2023-03-03T17:39:36.306Z"
   },
   {
    "duration": 9,
    "start_time": "2023-03-03T17:45:45.636Z"
   },
   {
    "duration": 4,
    "start_time": "2023-03-03T17:46:04.993Z"
   },
   {
    "duration": 4,
    "start_time": "2023-03-03T17:48:22.221Z"
   },
   {
    "duration": 10,
    "start_time": "2023-03-03T17:48:54.191Z"
   },
   {
    "duration": 11,
    "start_time": "2023-03-03T17:49:04.666Z"
   },
   {
    "duration": 9,
    "start_time": "2023-03-03T17:49:08.564Z"
   },
   {
    "duration": 7,
    "start_time": "2023-03-03T17:49:49.963Z"
   },
   {
    "duration": 1113,
    "start_time": "2023-03-03T18:24:43.275Z"
   },
   {
    "duration": 6,
    "start_time": "2023-03-03T18:24:44.390Z"
   },
   {
    "duration": 5,
    "start_time": "2023-03-03T18:24:44.398Z"
   },
   {
    "duration": 275,
    "start_time": "2023-03-03T18:24:44.405Z"
   },
   {
    "duration": 5,
    "start_time": "2023-03-03T18:24:44.682Z"
   },
   {
    "duration": 178,
    "start_time": "2023-03-03T18:24:44.689Z"
   },
   {
    "duration": 15,
    "start_time": "2023-03-03T18:24:44.869Z"
   },
   {
    "duration": 10,
    "start_time": "2023-03-03T18:24:44.886Z"
   },
   {
    "duration": 43,
    "start_time": "2023-03-03T18:24:44.898Z"
   },
   {
    "duration": 4,
    "start_time": "2023-03-03T18:24:44.944Z"
   },
   {
    "duration": 26,
    "start_time": "2023-03-03T18:24:44.950Z"
   },
   {
    "duration": 69,
    "start_time": "2023-03-03T18:24:44.978Z"
   },
   {
    "duration": 12,
    "start_time": "2023-03-03T18:24:45.049Z"
   },
   {
    "duration": 107,
    "start_time": "2023-03-03T18:24:45.063Z"
   },
   {
    "duration": 52,
    "start_time": "2023-03-03T18:24:45.171Z"
   },
   {
    "duration": 46,
    "start_time": "2023-03-03T18:24:45.225Z"
   },
   {
    "duration": 8,
    "start_time": "2023-03-03T18:24:45.273Z"
   },
   {
    "duration": 32,
    "start_time": "2023-03-03T18:24:45.282Z"
   },
   {
    "duration": 125,
    "start_time": "2023-03-03T18:24:45.316Z"
   },
   {
    "duration": 15,
    "start_time": "2023-03-03T18:24:45.443Z"
   },
   {
    "duration": 146,
    "start_time": "2023-03-03T18:24:45.460Z"
   },
   {
    "duration": 112,
    "start_time": "2023-03-03T18:24:45.608Z"
   },
   {
    "duration": 232,
    "start_time": "2023-03-03T18:24:45.723Z"
   },
   {
    "duration": 8,
    "start_time": "2023-03-03T18:24:45.956Z"
   },
   {
    "duration": 7,
    "start_time": "2023-03-03T18:24:45.966Z"
   },
   {
    "duration": 12,
    "start_time": "2023-03-03T18:24:45.975Z"
   },
   {
    "duration": 19,
    "start_time": "2023-03-03T18:24:45.989Z"
   },
   {
    "duration": 17,
    "start_time": "2023-03-03T18:24:46.045Z"
   },
   {
    "duration": 430,
    "start_time": "2023-03-03T18:24:46.064Z"
   },
   {
    "duration": 831,
    "start_time": "2023-03-03T18:24:46.496Z"
   },
   {
    "duration": 31,
    "start_time": "2023-03-03T18:24:47.330Z"
   },
   {
    "duration": 12,
    "start_time": "2023-03-03T18:24:47.365Z"
   },
   {
    "duration": 419,
    "start_time": "2023-03-03T18:24:47.379Z"
   },
   {
    "duration": 7,
    "start_time": "2023-03-03T18:24:47.800Z"
   },
   {
    "duration": 33,
    "start_time": "2023-03-03T18:24:47.809Z"
   },
   {
    "duration": 125,
    "start_time": "2023-03-03T18:24:47.845Z"
   },
   {
    "duration": 297,
    "start_time": "2023-03-03T18:24:47.972Z"
   },
   {
    "duration": 35,
    "start_time": "2023-03-03T18:24:48.271Z"
   },
   {
    "duration": 9,
    "start_time": "2023-03-03T18:24:48.308Z"
   },
   {
    "duration": 30,
    "start_time": "2023-03-03T18:24:48.340Z"
   },
   {
    "duration": 35,
    "start_time": "2023-03-03T18:24:48.371Z"
   },
   {
    "duration": 35,
    "start_time": "2023-03-03T18:24:48.408Z"
   },
   {
    "duration": 9,
    "start_time": "2023-03-03T18:24:48.445Z"
   },
   {
    "duration": 39,
    "start_time": "2023-03-03T18:24:48.455Z"
   },
   {
    "duration": 32,
    "start_time": "2023-03-03T18:24:48.496Z"
   },
   {
    "duration": 50,
    "start_time": "2023-03-03T18:24:48.529Z"
   },
   {
    "duration": 9,
    "start_time": "2023-03-03T18:24:48.581Z"
   },
   {
    "duration": 17,
    "start_time": "2023-03-03T18:24:48.592Z"
   },
   {
    "duration": 33,
    "start_time": "2023-03-03T18:24:48.611Z"
   },
   {
    "duration": 6,
    "start_time": "2023-03-03T18:24:48.646Z"
   },
   {
    "duration": 4,
    "start_time": "2023-03-03T18:24:48.655Z"
   },
   {
    "duration": 24,
    "start_time": "2023-03-03T18:24:48.660Z"
   },
   {
    "duration": 13,
    "start_time": "2023-03-03T18:24:48.687Z"
   },
   {
    "duration": 55,
    "start_time": "2023-03-03T18:24:48.702Z"
   },
   {
    "duration": 21,
    "start_time": "2023-03-03T18:24:48.759Z"
   },
   {
    "duration": 197,
    "start_time": "2023-03-03T18:24:48.782Z"
   },
   {
    "duration": 14,
    "start_time": "2023-03-03T18:24:48.981Z"
   },
   {
    "duration": 46,
    "start_time": "2023-03-03T18:24:48.996Z"
   },
   {
    "duration": 1412,
    "start_time": "2023-03-04T09:45:20.257Z"
   },
   {
    "duration": 7,
    "start_time": "2023-03-04T09:45:21.672Z"
   },
   {
    "duration": 5,
    "start_time": "2023-03-04T09:45:21.681Z"
   },
   {
    "duration": 974,
    "start_time": "2023-03-04T09:45:21.689Z"
   },
   {
    "duration": 4,
    "start_time": "2023-03-04T09:45:22.665Z"
   },
   {
    "duration": 157,
    "start_time": "2023-03-04T09:45:22.671Z"
   },
   {
    "duration": 12,
    "start_time": "2023-03-04T09:45:22.830Z"
   },
   {
    "duration": 18,
    "start_time": "2023-03-04T09:45:22.844Z"
   },
   {
    "duration": 33,
    "start_time": "2023-03-04T09:45:22.865Z"
   },
   {
    "duration": 25,
    "start_time": "2023-03-04T09:45:22.901Z"
   },
   {
    "duration": 39,
    "start_time": "2023-03-04T09:45:22.928Z"
   },
   {
    "duration": 104,
    "start_time": "2023-03-04T09:45:22.970Z"
   },
   {
    "duration": 12,
    "start_time": "2023-03-04T09:45:23.077Z"
   },
   {
    "duration": 110,
    "start_time": "2023-03-04T09:45:23.094Z"
   },
   {
    "duration": 69,
    "start_time": "2023-03-04T09:45:23.206Z"
   },
   {
    "duration": 53,
    "start_time": "2023-03-04T09:45:23.277Z"
   },
   {
    "duration": 8,
    "start_time": "2023-03-04T09:45:23.332Z"
   },
   {
    "duration": 24,
    "start_time": "2023-03-04T09:45:23.342Z"
   },
   {
    "duration": 142,
    "start_time": "2023-03-04T09:45:23.368Z"
   },
   {
    "duration": 26,
    "start_time": "2023-03-04T09:45:23.511Z"
   },
   {
    "duration": 152,
    "start_time": "2023-03-04T09:45:23.539Z"
   },
   {
    "duration": 122,
    "start_time": "2023-03-04T09:45:23.693Z"
   },
   {
    "duration": 247,
    "start_time": "2023-03-04T09:45:23.817Z"
   },
   {
    "duration": 7,
    "start_time": "2023-03-04T09:45:24.066Z"
   },
   {
    "duration": 8,
    "start_time": "2023-03-04T09:45:24.075Z"
   },
   {
    "duration": 14,
    "start_time": "2023-03-04T09:45:24.084Z"
   },
   {
    "duration": 22,
    "start_time": "2023-03-04T09:45:24.125Z"
   },
   {
    "duration": 29,
    "start_time": "2023-03-04T09:45:24.149Z"
   },
   {
    "duration": 471,
    "start_time": "2023-03-04T09:45:24.181Z"
   },
   {
    "duration": 870,
    "start_time": "2023-03-04T09:45:24.654Z"
   },
   {
    "duration": 20,
    "start_time": "2023-03-04T09:45:25.525Z"
   },
   {
    "duration": 3,
    "start_time": "2023-03-04T09:45:25.547Z"
   },
   {
    "duration": 383,
    "start_time": "2023-03-04T09:45:25.552Z"
   },
   {
    "duration": 6,
    "start_time": "2023-03-04T09:45:25.936Z"
   },
   {
    "duration": 19,
    "start_time": "2023-03-04T09:45:25.944Z"
   },
   {
    "duration": 149,
    "start_time": "2023-03-04T09:45:25.965Z"
   },
   {
    "duration": 325,
    "start_time": "2023-03-04T09:45:26.116Z"
   },
   {
    "duration": 43,
    "start_time": "2023-03-04T09:45:26.443Z"
   },
   {
    "duration": 12,
    "start_time": "2023-03-04T09:45:26.488Z"
   },
   {
    "duration": 50,
    "start_time": "2023-03-04T09:45:26.502Z"
   },
   {
    "duration": 33,
    "start_time": "2023-03-04T09:45:26.557Z"
   },
   {
    "duration": 40,
    "start_time": "2023-03-04T09:45:26.592Z"
   },
   {
    "duration": 9,
    "start_time": "2023-03-04T09:45:26.634Z"
   },
   {
    "duration": 28,
    "start_time": "2023-03-04T09:45:26.645Z"
   },
   {
    "duration": 28,
    "start_time": "2023-03-04T09:45:26.675Z"
   },
   {
    "duration": 37,
    "start_time": "2023-03-04T09:45:26.724Z"
   },
   {
    "duration": 10,
    "start_time": "2023-03-04T09:45:26.763Z"
   },
   {
    "duration": 16,
    "start_time": "2023-03-04T09:45:26.775Z"
   },
   {
    "duration": 32,
    "start_time": "2023-03-04T09:45:26.793Z"
   },
   {
    "duration": 9,
    "start_time": "2023-03-04T09:45:26.827Z"
   },
   {
    "duration": 5,
    "start_time": "2023-03-04T09:45:26.838Z"
   },
   {
    "duration": 23,
    "start_time": "2023-03-04T09:45:26.845Z"
   },
   {
    "duration": 17,
    "start_time": "2023-03-04T09:45:26.869Z"
   },
   {
    "duration": 66,
    "start_time": "2023-03-04T09:45:26.888Z"
   },
   {
    "duration": 20,
    "start_time": "2023-03-04T09:45:26.956Z"
   },
   {
    "duration": 194,
    "start_time": "2023-03-04T09:45:26.978Z"
   },
   {
    "duration": 16,
    "start_time": "2023-03-04T09:45:27.173Z"
   },
   {
    "duration": 56,
    "start_time": "2023-03-04T09:45:27.191Z"
   },
   {
    "duration": 128,
    "start_time": "2023-03-04T09:48:58.897Z"
   }
  ],
  "kernelspec": {
   "display_name": "Python 3 (ipykernel)",
   "language": "python",
   "name": "python3"
  },
  "language_info": {
   "codemirror_mode": {
    "name": "ipython",
    "version": 3
   },
   "file_extension": ".py",
   "mimetype": "text/x-python",
   "name": "python",
   "nbconvert_exporter": "python",
   "pygments_lexer": "ipython3",
   "version": "3.9.13"
  },
  "toc": {
   "base_numbering": 1,
   "nav_menu": {},
   "number_sections": true,
   "sideBar": true,
   "skip_h1_title": true,
   "title_cell": "Оглавление",
   "title_sidebar": "Оглавление",
   "toc_cell": true,
   "toc_position": {},
   "toc_section_display": true,
   "toc_window_display": true
  }
 },
 "nbformat": 4,
 "nbformat_minor": 5
}
